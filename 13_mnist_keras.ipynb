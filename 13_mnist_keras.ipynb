{
  "nbformat": 4,
  "nbformat_minor": 0,
  "metadata": {
    "colab": {
      "name": "12_mnist_keras.ipynb",
      "version": "0.3.2",
      "provenance": [],
      "collapsed_sections": [],
      "include_colab_link": true
    },
    "kernelspec": {
      "name": "python3",
      "display_name": "Python 3"
    },
    "accelerator": "GPU"
  },
  "cells": [
    {
      "cell_type": "markdown",
      "metadata": {
        "id": "view-in-github",
        "colab_type": "text"
      },
      "source": [
        "<a href=\"https://colab.research.google.com/github/SulavJ/bigdata_assignments/blob/master/12_mnist_keras.ipynb\" target=\"_parent\"><img src=\"https://colab.research.google.com/assets/colab-badge.svg\" alt=\"Open In Colab\"/></a>"
      ]
    },
    {
      "cell_type": "markdown",
      "metadata": {
        "id": "T-c5eXbGCFtk",
        "colab_type": "text"
      },
      "source": [
        "### **MNIST with CNN**"
      ]
    },
    {
      "cell_type": "code",
      "metadata": {
        "id": "I0gL42RiBUSr",
        "colab_type": "code",
        "colab": {}
      },
      "source": [
        "%matplotlib inline\n",
        "import matplotlib.pyplot as plt\n",
        "import numpy as np\n",
        "import keras\n",
        "from keras.datasets import mnist\n",
        "from keras.models import Sequential\n",
        "from keras.layers import Dense, Dropout, Flatten, Conv2D, MaxPooling2D"
      ],
      "execution_count": 0,
      "outputs": []
    },
    {
      "cell_type": "code",
      "metadata": {
        "id": "SJdq_vBJCAL-",
        "colab_type": "code",
        "colab": {}
      },
      "source": [
        "#input image dimensions\n",
        "img_rows, img_cols = 28, 28\n",
        "input_shape = (img_rows, img_cols, 1)\n",
        "num_classes = 10"
      ],
      "execution_count": 0,
      "outputs": []
    },
    {
      "cell_type": "code",
      "metadata": {
        "id": "FhE3Xn3GCfGM",
        "colab_type": "code",
        "colab": {}
      },
      "source": [
        "#the data, shuffled and split between train and test sets\n",
        "(x_train, y_train), (x_test, y_test) = mnist.load_data()"
      ],
      "execution_count": 0,
      "outputs": []
    },
    {
      "cell_type": "code",
      "metadata": {
        "id": "ENxLegxtCvRK",
        "colab_type": "code",
        "colab": {
          "base_uri": "https://localhost:8080/",
          "height": 34
        },
        "outputId": "a955ed2b-195c-41aa-c170-056c93d1fa00"
      },
      "source": [
        "print('x_train shape:', x_train.shape)"
      ],
      "execution_count": 5,
      "outputs": [
        {
          "output_type": "stream",
          "text": [
            "x_train shape: (60000, 28, 28)\n"
          ],
          "name": "stdout"
        }
      ]
    },
    {
      "cell_type": "code",
      "metadata": {
        "id": "2ECUbWUoC3rg",
        "colab_type": "code",
        "colab": {}
      },
      "source": [
        "#the color is encoded as a number from 0 to 255 \n",
        "x_train[0]"
      ],
      "execution_count": 0,
      "outputs": []
    },
    {
      "cell_type": "code",
      "metadata": {
        "id": "WJf3gLVRDBOC",
        "colab_type": "code",
        "colab": {
          "base_uri": "https://localhost:8080/",
          "height": 34
        },
        "outputId": "ff0ac366-fbfa-4f02-d38e-573d2c56053a"
      },
      "source": [
        "#keras wants the picture not in the 3D tensor but 4D tensor\n",
        "#first dimension is the different pictures\n",
        "#second and third dimensions are the 28x28 x and y axis of the picture\n",
        "#reshape train and test data to 4D tensor\n",
        "\n",
        "x_train = x_train.reshape(x_train.shape[0], img_rows, img_cols, 1)\n",
        "x_test = x_test.reshape(x_test.shape[0], img_rows, img_cols, 1)\n",
        "print('x_train shape:', x_train.shape)"
      ],
      "execution_count": 8,
      "outputs": [
        {
          "output_type": "stream",
          "text": [
            "x_train shape: (60000, 28, 28, 1)\n"
          ],
          "name": "stdout"
        }
      ]
    },
    {
      "cell_type": "code",
      "metadata": {
        "id": "ytecktTMEXmQ",
        "colab_type": "code",
        "colab": {
          "base_uri": "https://localhost:8080/",
          "height": 52
        },
        "outputId": "ad75533b-5727-4839-e1fe-f7d423280725"
      },
      "source": [
        "#gray scale encodes an integer between 0 to 255\n",
        "# the neural network needs it as a float\n",
        "x_train = x_train.astype('float32')\n",
        "x_test = x_test.astype('float32')\n",
        "#We rescale the tensor so that the nummbers are between 0 and 1\n",
        "x_train /= 255\n",
        "x_test /= 255\n",
        "print(x_train.shape[0], 'train samples')\n",
        "print(x_test.shape[0], 'test samples')"
      ],
      "execution_count": 10,
      "outputs": [
        {
          "output_type": "stream",
          "text": [
            "60000 train samples\n",
            "10000 test samples\n"
          ],
          "name": "stdout"
        }
      ]
    },
    {
      "cell_type": "code",
      "metadata": {
        "id": "jcnHbPTgEjMz",
        "colab_type": "code",
        "colab": {
          "base_uri": "https://localhost:8080/",
          "height": 304
        },
        "outputId": "c0ea286a-2136-4345-815b-7f5cac9e97c5"
      },
      "source": [
        "#let us look at an example\n",
        "\n",
        "img_index = 45666\n",
        "print(\"true class:\", y_train[img_index])\n",
        "plt.imshow(np.reshape(x_train[img_index], (28,28)), cmap='gray')"
      ],
      "execution_count": 18,
      "outputs": [
        {
          "output_type": "stream",
          "text": [
            "true class: 1\n"
          ],
          "name": "stdout"
        },
        {
          "output_type": "execute_result",
          "data": {
            "text/plain": [
              "<matplotlib.image.AxesImage at 0x7fb32e8ae240>"
            ]
          },
          "metadata": {
            "tags": []
          },
          "execution_count": 18
        },
        {
          "output_type": "display_data",
          "data": {
            "image/png": "[encoded data removed]",
            "text/plain": [
              "<Figure size 432x288 with 1 Axes>"
            ]
          },
          "metadata": {
            "tags": []
          }
        }
      ]
    },
    {
      "cell_type": "code",
      "metadata": {
        "id": "r0qn5TF0GGzM",
        "colab_type": "code",
        "colab": {}
      },
      "source": [
        "#convert class vectors to one-hot encoded binary class matrices\n",
        "y_train = keras.utils.to_categorical(y_train, num_classes)\n",
        "y_test = keras.utils.to_categorical(y_test, num_classes)"
      ],
      "execution_count": 0,
      "outputs": []
    },
    {
      "cell_type": "code",
      "metadata": {
        "id": "yWtD6AeMHI4A",
        "colab_type": "code",
        "colab": {
          "base_uri": "https://localhost:8080/",
          "height": 304
        },
        "outputId": "793336de-6ec5-4780-c856-79e4a8ca3238"
      },
      "source": [
        "#lets again show the picture with the true class. \n",
        "img_index = 45666\n",
        "print(\"true class:\", y_train[img_index])\n",
        "plt.imshow(np.reshape(x_train[img_index], (28,28)), cmap = 'gray')"
      ],
      "execution_count": 23,
      "outputs": [
        {
          "output_type": "stream",
          "text": [
            "true class: [0. 1. 0. 0. 0. 0. 0. 0. 0. 0.]\n"
          ],
          "name": "stdout"
        },
        {
          "output_type": "execute_result",
          "data": {
            "text/plain": [
              "<matplotlib.image.AxesImage at 0x7fb32e802f98>"
            ]
          },
          "metadata": {
            "tags": []
          },
          "execution_count": 23
        },
        {
          "output_type": "display_data",
          "data": {
            "image/png": "[encoded data removed]",
            "text/plain": [
              "<Figure size 432x288 with 1 Axes>"
            ]
          },
          "metadata": {
            "tags": []
          }
        }
      ]
    },
    {
      "cell_type": "code",
      "metadata": {
        "id": "yMrfAusJHK9N",
        "colab_type": "code",
        "colab": {}
      },
      "source": [
        "#Create a Sequential Model \n",
        "#Add Convolutional Layer with 32 kernels, each with the size 3x3, use Relu as the activation function\n",
        "#Add another Convolutional Layer with the 64 Kernels, each with the size 3x3, use Relu as the activation function\n",
        "#Add a max pooling layer with pool size of 2x2 \n",
        "#Add then a Dropout of 25%\n",
        "#Add then a Flatten Operator to get a one dimensional vector\n",
        "#Add a dense layer with 128 node and Relu activation\n",
        "#Add then a Dropout of 50%\n",
        "#Finally add a dense layer for the output. Think about the nummber of nodes and the activation function you need. \n",
        "\n",
        "\n",
        "model = Sequential()\n",
        "model.add(Conv2D(32, kernel_size = (3,3), activation = 'relu', input_shape = input_shape))\n",
        "model.add(Conv2D(64, kernel_size = (3,3), activation = 'relu'))\n",
        "model.add(MaxPooling2D(pool_size = (2, 2)))\n",
        "model.add(Dropout(0.25))\n",
        "model.add(Flatten())\n",
        "model.add(Dense(128, activation = 'relu'))\n",
        "model.add(Dropout(0.5))\n",
        "model.add(Dense(num_classes, activation = 'softmax')) #10 because we have 10 digits and softmax"
      ],
      "execution_count": 0,
      "outputs": []
    },
    {
      "cell_type": "code",
      "metadata": {
        "id": "AOkbbmuMMART",
        "colab_type": "code",
        "colab": {}
      },
      "source": [
        "#compile the model\n",
        "#Think about the appropriate loss function\n",
        "#Use as the Optimizer Adadelta\n",
        "#Add as another metric Accuracy \n",
        "\n",
        "model.compile(loss = keras.losses.categorical_crossentropy, optimizer = keras.optimizers.Adadelta(), metrics = ['accuracy'])\n",
        "\n"
      ],
      "execution_count": 0,
      "outputs": []
    },
    {
      "cell_type": "code",
      "metadata": {
        "id": "JZr3FdWWNdC6",
        "colab_type": "code",
        "colab": {
          "base_uri": "https://localhost:8080/",
          "height": 481
        },
        "outputId": "be4a7f7d-3792-42b0-f78a-1234a83def27"
      },
      "source": [
        "# fit the model \n",
        "# save the learning history in a variable history \n",
        "# use batch size 128, and 12 epochs\n",
        "\n",
        "history = model.fit(x_train, y_train, batch_size = 128, epochs = 12, validation_data = (x_test, y_test))\n"
      ],
      "execution_count": 51,
      "outputs": [
        {
          "output_type": "stream",
          "text": [
            "Train on 60000 samples, validate on 10000 samples\n",
            "Epoch 1/12\n",
            "60000/60000 [==============================] - 5s 86us/step - loss: 0.0174 - acc: 0.9944 - val_loss: 0.0323 - val_acc: 0.9926\n",
            "Epoch 2/12\n",
            "60000/60000 [==============================] - 5s 82us/step - loss: 0.0172 - acc: 0.9944 - val_loss: 0.0307 - val_acc: 0.9915\n",
            "Epoch 3/12\n",
            "60000/60000 [==============================] - 5s 87us/step - loss: 0.0165 - acc: 0.9945 - val_loss: 0.0253 - val_acc: 0.9932\n",
            "Epoch 4/12\n",
            "60000/60000 [==============================] - 5s 88us/step - loss: 0.0162 - acc: 0.9947 - val_loss: 0.0303 - val_acc: 0.9931\n",
            "Epoch 5/12\n",
            "60000/60000 [==============================] - 5s 87us/step - loss: 0.0155 - acc: 0.9948 - val_loss: 0.0323 - val_acc: 0.9913\n",
            "Epoch 6/12\n",
            "60000/60000 [==============================] - 5s 88us/step - loss: 0.0146 - acc: 0.9954 - val_loss: 0.0305 - val_acc: 0.9927\n",
            "Epoch 7/12\n",
            "60000/60000 [==============================] - 5s 88us/step - loss: 0.0150 - acc: 0.9953 - val_loss: 0.0331 - val_acc: 0.9923\n",
            "Epoch 8/12\n",
            "60000/60000 [==============================] - 5s 88us/step - loss: 0.0152 - acc: 0.9948 - val_loss: 0.0324 - val_acc: 0.9917\n",
            "Epoch 9/12\n",
            "60000/60000 [==============================] - 5s 88us/step - loss: 0.0146 - acc: 0.9954 - val_loss: 0.0299 - val_acc: 0.9930\n",
            "Epoch 10/12\n",
            "60000/60000 [==============================] - 5s 88us/step - loss: 0.0147 - acc: 0.9952 - val_loss: 0.0344 - val_acc: 0.9909\n",
            "Epoch 11/12\n",
            "60000/60000 [==============================] - 5s 88us/step - loss: 0.0154 - acc: 0.9956 - val_loss: 0.0287 - val_acc: 0.9930\n",
            "Epoch 12/12\n",
            "60000/60000 [==============================] - 5s 88us/step - loss: 0.0164 - acc: 0.9951 - val_loss: 0.0301 - val_acc: 0.9923\n"
          ],
          "name": "stdout"
        }
      ]
    },
    {
      "cell_type": "code",
      "metadata": {
        "id": "Yq8M4DZCOUMQ",
        "colab_type": "code",
        "colab": {
          "base_uri": "https://localhost:8080/",
          "height": 70
        },
        "outputId": "ccc73d6c-9695-4036-b96b-3b4a56e626d1"
      },
      "source": [
        "#Test the model based on the test data\n",
        "#Print the test loss and test accuracy\n",
        "\n",
        "score = model.evaluate(x_test, y_test)\n",
        "print('Test Loss:', score[0])\n",
        "print('Test Accuracy:', score[1])"
      ],
      "execution_count": 52,
      "outputs": [
        {
          "output_type": "stream",
          "text": [
            "10000/10000 [==============================] - 1s 65us/step\n",
            "Test Loss: 0.03014596574436723\n",
            "Test Accuracy: 0.9923\n"
          ],
          "name": "stdout"
        }
      ]
    },
    {
      "cell_type": "code",
      "metadata": {
        "id": "HBjEY97bQDoT",
        "colab_type": "code",
        "colab": {
          "base_uri": "https://localhost:8080/",
          "height": 34
        },
        "outputId": "dd31e56b-e18f-46c7-b6f3-93a1a8720efd"
      },
      "source": [
        "print(history.history.keys())"
      ],
      "execution_count": 53,
      "outputs": [
        {
          "output_type": "stream",
          "text": [
            "dict_keys(['val_loss', 'val_acc', 'loss', 'acc'])\n"
          ],
          "name": "stdout"
        }
      ]
    },
    {
      "cell_type": "code",
      "metadata": {
        "id": "PQryqrMfO8BF",
        "colab_type": "code",
        "colab": {
          "base_uri": "https://localhost:8080/",
          "height": 294
        },
        "outputId": "61256bf6-3683-45b2-f7e2-ca303dd26899"
      },
      "source": [
        "#Create a plot to show training and validation accuracy\n",
        "plt.plot(history.history['acc'])\n",
        "plt.plot(history.history['val_acc'])\n",
        "plt.title('Training and Validation Accuracy')\n",
        "plt.ylabel('Loss')\n",
        "plt.xlabel('Epoch')\n",
        "plt.legend(['training accuracy', 'Validation accuracy'], loc='lower right')\n",
        "plt.show()"
      ],
      "execution_count": 54,
      "outputs": [
        {
          "output_type": "display_data",
          "data": {
            "image/png": "[encoded data removed]",
            "text/plain": [
              "<Figure size 432x288 with 1 Axes>"
            ]
          },
          "metadata": {
            "tags": []
          }
        }
      ]
    },
    {
      "cell_type": "code",
      "metadata": {
        "id": "BuEsXwbcPzDu",
        "colab_type": "code",
        "colab": {
          "base_uri": "https://localhost:8080/",
          "height": 232
        },
        "outputId": "c6016dff-60c2-4b64-ee44-e3135b1da5bf"
      },
      "source": [
        "# Shows Test Pictures and predicted class\n",
        "grid_x = 8\n",
        "grid_y = 3\n",
        "plt.figure(figsize=(1*grid_x, 2*grid_y))\n",
        "for y in range(grid_y):\n",
        "    for x in range(grid_x):\n",
        "        index = x + (grid_x * y)\n",
        "        plt_index = x + (grid_x * y)\n",
        "        plt.subplot(2*grid_y, grid_x, 1+plt_index)\n",
        "        img_index = index+500\n",
        "        pred_data = np.reshape(x_test[img_index], (1, 28, 28, 1))\n",
        "        pred = model.predict(pred_data, verbose=0)\n",
        "        plt.imshow(np.reshape(x_test[img_index],(28,28)),cmap='gray')\n",
        "        plt.xticks([],[])\n",
        "        plt.yticks([],[])\n",
        "        plt.title(str(np.argmax(pred)))\n",
        "plt.tight_layout()\n",
        "plt.show()"
      ],
      "execution_count": 57,
      "outputs": [
        {
          "output_type": "display_data",
          "data": {
            "image/png": "[encoded data removed]",
            "text/plain": [
              "<Figure size 576x432 with 24 Axes>"
            ]
          },
          "metadata": {
            "tags": []
          }
        }
      ]
    },
    {
      "cell_type": "code",
      "metadata": {
        "id": "UDOMqGNARgBj",
        "colab_type": "code",
        "colab": {
          "base_uri": "https://localhost:8080/",
          "height": 443
        },
        "outputId": "0fbff2f5-7b6f-4120-fd84-2dcac5ae22f4"
      },
      "source": [
        "#Show model summary\n",
        "print (model.summary())"
      ],
      "execution_count": 50,
      "outputs": [
        {
          "output_type": "stream",
          "text": [
            "_________________________________________________________________\n",
            "Layer (type)                 Output Shape              Param #   \n",
            "=================================================================\n",
            "conv2d_5 (Conv2D)            (None, 26, 26, 32)        320       \n",
            "_________________________________________________________________\n",
            "conv2d_6 (Conv2D)            (None, 24, 24, 64)        18496     \n",
            "_________________________________________________________________\n",
            "max_pooling2d_3 (MaxPooling2 (None, 12, 12, 64)        0         \n",
            "_________________________________________________________________\n",
            "dropout_5 (Dropout)          (None, 12, 12, 64)        0         \n",
            "_________________________________________________________________\n",
            "flatten_3 (Flatten)          (None, 9216)              0         \n",
            "_________________________________________________________________\n",
            "dense_5 (Dense)              (None, 128)               1179776   \n",
            "_________________________________________________________________\n",
            "dropout_6 (Dropout)          (None, 128)               0         \n",
            "_________________________________________________________________\n",
            "dense_6 (Dense)              (None, 10)                1290      \n",
            "=================================================================\n",
            "Total params: 1,199,882\n",
            "Trainable params: 1,199,882\n",
            "Non-trainable params: 0\n",
            "_________________________________________________________________\n",
            "None\n"
          ],
          "name": "stdout"
        }
      ]
    },
    {
      "cell_type": "code",
      "metadata": {
        "id": "hkbpfAOjR5E6",
        "colab_type": "code",
        "colab": {}
      },
      "source": [
        ""
      ],
      "execution_count": 0,
      "outputs": []
    }
  ]
}
