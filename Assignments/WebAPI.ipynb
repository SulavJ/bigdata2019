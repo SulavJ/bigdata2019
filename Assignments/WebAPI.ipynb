{
 "cells": [
  {
   "cell_type": "code",
   "execution_count": 160,
   "metadata": {},
   "outputs": [],
   "source": [
    "#URL for getting male users from US >>>>https://api.randomuser.me/?gender=male&nat=US"
   ]
  },
  {
   "cell_type": "code",
   "execution_count": 166,
   "metadata": {},
   "outputs": [],
   "source": [
    "#importing necessary libraries\n",
    "import requests\n",
    "import json\n",
    "from pprint import pprint"
   ]
  },
  {
   "cell_type": "code",
   "execution_count": 167,
   "metadata": {},
   "outputs": [],
   "source": [
    "#assigning parameters to get the only males users from US\n",
    "parameters = {\"gender\": \"male\", \"nat\": \"US\"}"
   ]
  },
  {
   "cell_type": "code",
   "execution_count": 168,
   "metadata": {},
   "outputs": [
    {
     "name": "stdout",
     "output_type": "stream",
     "text": [
      "{'results': [{'gender': 'male', 'name': {'title': 'mr', 'first': 'fred', 'last': 'chapman'}, 'location': {'street': '6704 lovers ln', 'city': 'seymour', 'state': 'south carolina', 'postcode': 22117, 'coordinates': {'latitude': '-77.1455', 'longitude': '-52.6780'}, 'timezone': {'offset': '-2:00', 'description': 'Mid-Atlantic'}}, 'email': 'fred.chapman@example.com', 'login': {'uuid': '26a7dc21-bf49-4532-b27e-7b305d7f08bc', 'username': 'blackkoala935', 'password': 'camera', 'salt': 'eU9sKumj', 'md5': 'cc9854f25e6c6e341652341759c66a28', 'sha1': 'a75c756ada906602a9c4a185bbba8ae62874f30d', 'sha256': '674fd8fb1911ad9b3983ae0d12934a50923eb57d5d93d0bedec9cc134c320ebe'}, 'dob': {'date': '1971-01-18T03:49:38Z', 'age': 48}, 'registered': {'date': '2013-12-15T10:35:20Z', 'age': 5}, 'phone': '(038)-490-5776', 'cell': '(494)-490-7404', 'id': {'name': 'SSN', 'value': '822-08-8013'}, 'picture': {'large': 'https://randomuser.me/api/portraits/men/23.jpg', 'medium': 'https://randomuser.me/api/portraits/med/men/23.jpg', 'thumbnail': 'https://randomuser.me/api/portraits/thumb/men/23.jpg'}, 'nat': 'US'}], 'info': {'seed': '7da15b3f81169e34', 'results': 1, 'page': 1, 'version': '1.2'}}\n",
      "The first name is:\n",
      "fred\n",
      "\n",
      "{'results': [{'gender': 'male', 'name': {'title': 'mr', 'first': 'adam', 'last': 'craig'}, 'location': {'street': '255 central st', 'city': 'cupertino', 'state': 'maine', 'postcode': 92831, 'coordinates': {'latitude': '-27.5217', 'longitude': '-178.3444'}, 'timezone': {'offset': '-5:00', 'description': 'Eastern Time (US & Canada), Bogota, Lima'}}, 'email': 'adam.craig@example.com', 'login': {'uuid': '230136e7-9ba1-4ce4-ab9d-cf8bee131334', 'username': 'sadmouse855', 'password': 'teng', 'salt': 'EKRNfY6q', 'md5': '383861bd4765c87251daddd28670eeba', 'sha1': '1535f5bbcb60ad921fbe9985eb6b2d9275928d42', 'sha256': '11f779b753a5fd75dccdd3f33e92788ff4286853ed0a4a3d8463887141f64118'}, 'dob': {'date': '1985-02-20T20:03:45Z', 'age': 34}, 'registered': {'date': '2018-06-13T17:21:00Z', 'age': 0}, 'phone': '(798)-121-2222', 'cell': '(848)-027-2478', 'id': {'name': 'SSN', 'value': '818-67-0559'}, 'picture': {'large': 'https://randomuser.me/api/portraits/men/50.jpg', 'medium': 'https://randomuser.me/api/portraits/med/men/50.jpg', 'thumbnail': 'https://randomuser.me/api/portraits/thumb/men/50.jpg'}, 'nat': 'US'}], 'info': {'seed': 'fe4ba1d6fcb2c1fc', 'results': 1, 'page': 1, 'version': '1.2'}}\n",
      "The first name is:\n",
      "adam\n",
      "\n",
      "{'results': [{'gender': 'male', 'name': {'title': 'mr', 'first': 'carlos', 'last': 'smith'}, 'location': {'street': '9472 smokey ln', 'city': 'hartford', 'state': 'arkansas', 'postcode': 17657, 'coordinates': {'latitude': '-40.3804', 'longitude': '-128.2557'}, 'timezone': {'offset': '+2:00', 'description': 'Kaliningrad, South Africa'}}, 'email': 'carlos.smith@example.com', 'login': {'uuid': 'd8fc6012-d746-4598-9f7e-a58d28e1812f', 'username': 'yellowladybug941', 'password': 'anime', 'salt': 'k2DrAvKH', 'md5': '5bc4965838025317e6024424849e43d9', 'sha1': '46fc4423274d79c8abcc8f95d7ac33b4b7e2acb8', 'sha256': 'd77862307ddfa9e427e7e77a85702f37b064e373a1459dc5d06bddebf218aaff'}, 'dob': {'date': '1978-03-07T14:16:19Z', 'age': 41}, 'registered': {'date': '2007-06-05T01:36:25Z', 'age': 11}, 'phone': '(815)-915-0192', 'cell': '(303)-140-0500', 'id': {'name': 'SSN', 'value': '719-10-8522'}, 'picture': {'large': 'https://randomuser.me/api/portraits/men/52.jpg', 'medium': 'https://randomuser.me/api/portraits/med/men/52.jpg', 'thumbnail': 'https://randomuser.me/api/portraits/thumb/men/52.jpg'}, 'nat': 'US'}], 'info': {'seed': 'f4128f6105381cd8', 'results': 1, 'page': 1, 'version': '1.2'}}\n",
      "The first name is:\n",
      "carlos\n",
      "\n",
      "{'results': [{'gender': 'male', 'name': {'title': 'mr', 'first': 'wayne', 'last': 'carpenter'}, 'location': {'street': '24 valwood pkwy', 'city': 'seattle', 'state': 'south carolina', 'postcode': 51811, 'coordinates': {'latitude': '-82.2046', 'longitude': '171.9994'}, 'timezone': {'offset': '-10:00', 'description': 'Hawaii'}}, 'email': 'wayne.carpenter@example.com', 'login': {'uuid': '110ddc7e-092f-4c19-b8ef-067e4bc1a578', 'username': 'orangewolf947', 'password': 'cccccccc', 'salt': '3bLi9WfK', 'md5': 'a2aa0dace0caf60fe5d6e7430980f40f', 'sha1': 'e72d1420b2c8eae59f9389ab2ab8eefabb57cf51', 'sha256': '71bec0eb3438d23cae7afdbfefbb82d3bc3a463096013ddbd806bf58e176b4a5'}, 'dob': {'date': '1947-09-02T09:10:57Z', 'age': 71}, 'registered': {'date': '2008-06-04T18:10:07Z', 'age': 10}, 'phone': '(927)-816-3451', 'cell': '(842)-572-5092', 'id': {'name': 'SSN', 'value': '841-57-7027'}, 'picture': {'large': 'https://randomuser.me/api/portraits/men/47.jpg', 'medium': 'https://randomuser.me/api/portraits/med/men/47.jpg', 'thumbnail': 'https://randomuser.me/api/portraits/thumb/men/47.jpg'}, 'nat': 'US'}], 'info': {'seed': '56a0a3842693b5f7', 'results': 1, 'page': 1, 'version': '1.2'}}\n",
      "The first name is:\n",
      "wayne\n",
      "\n",
      "{'results': [{'gender': 'male', 'name': {'title': 'mr', 'first': 'brayden', 'last': 'pierce'}, 'location': {'street': '7563 w campbell ave', 'city': 'manchester', 'state': 'arizona', 'postcode': 89136, 'coordinates': {'latitude': '-87.4462', 'longitude': '-141.4769'}, 'timezone': {'offset': '+9:30', 'description': 'Adelaide, Darwin'}}, 'email': 'brayden.pierce@example.com', 'login': {'uuid': 'bece80e9-85d9-421c-bb7b-76eaf9987348', 'username': 'redladybug773', 'password': 'jimmys', 'salt': 'LHw1LigW', 'md5': '9978e7cd3c1d0a07b6a4efb398f0bb5a', 'sha1': '1123d9bf1ff3e0753c2a9a4eb1133d2084ab0c9c', 'sha256': 'fe2f06a2bac48df056d3003e2b2afd11ebb01462ac505b6f0f8b406129ce67bc'}, 'dob': {'date': '1968-03-26T11:24:27Z', 'age': 51}, 'registered': {'date': '2008-05-06T07:17:04Z', 'age': 10}, 'phone': '(696)-554-2259', 'cell': '(743)-642-1219', 'id': {'name': 'SSN', 'value': '295-20-1372'}, 'picture': {'large': 'https://randomuser.me/api/portraits/men/92.jpg', 'medium': 'https://randomuser.me/api/portraits/med/men/92.jpg', 'thumbnail': 'https://randomuser.me/api/portraits/thumb/men/92.jpg'}, 'nat': 'US'}], 'info': {'seed': '2baea7a48143902b', 'results': 1, 'page': 1, 'version': '1.2'}}\n",
      "The first name is:\n",
      "brayden\n",
      "\n",
      "{'results': [{'gender': 'male', 'name': {'title': 'mr', 'first': 'gabriel', 'last': 'peters'}, 'location': {'street': '8999 pockrus page rd', 'city': 'norman', 'state': 'new mexico', 'postcode': 91791, 'coordinates': {'latitude': '48.5870', 'longitude': '-47.7438'}, 'timezone': {'offset': '+3:30', 'description': 'Tehran'}}, 'email': 'gabriel.peters@example.com', 'login': {'uuid': 'b9ea99e2-5e32-4ff8-bfd6-8e5f43d2efbd', 'username': 'yellowsnake479', 'password': 'jakejake', 'salt': 'kt6oi09I', 'md5': 'f95e09a30173bcd20db146864f97f087', 'sha1': '4ca2111b3907051a6f28ecd3d8c6176ac3dfe070', 'sha256': '280402034a0e86dff1095252d272395d4fedff1e9899132b5dac8960c13fda56'}, 'dob': {'date': '1973-02-18T09:03:42Z', 'age': 46}, 'registered': {'date': '2017-06-01T23:59:14Z', 'age': 1}, 'phone': '(922)-818-9789', 'cell': '(089)-805-9806', 'id': {'name': 'SSN', 'value': '104-67-9378'}, 'picture': {'large': 'https://randomuser.me/api/portraits/men/34.jpg', 'medium': 'https://randomuser.me/api/portraits/med/men/34.jpg', 'thumbnail': 'https://randomuser.me/api/portraits/thumb/men/34.jpg'}, 'nat': 'US'}], 'info': {'seed': '0ccc1cea12f4b748', 'results': 1, 'page': 1, 'version': '1.2'}}\n",
      "The first name is:\n",
      "gabriel\n",
      "\n",
      "{'results': [{'gender': 'male', 'name': {'title': 'mr', 'first': 'jacob', 'last': 'nguyen'}, 'location': {'street': '1210 mcgowen st', 'city': 'moreno valley', 'state': 'utah', 'postcode': 13937, 'coordinates': {'latitude': '81.4384', 'longitude': '-17.6391'}, 'timezone': {'offset': '+8:00', 'description': 'Beijing, Perth, Singapore, Hong Kong'}}, 'email': 'jacob.nguyen@example.com', 'login': {'uuid': 'ad179e0e-cc17-4291-b33d-5391d5446bef', 'username': 'blueduck861', 'password': 'pickup', 'salt': '6VWeClLe', 'md5': 'a0fb4800d7ceb773451ea8b95784bdc7', 'sha1': '677058ec2d0fd66e07ecf543f47a71807464a701', 'sha256': 'c285fa26802937b3279a4eaefb4cbd8c2c16338022c9f76cc6f37fb6d121acd6'}, 'dob': {'date': '1961-03-01T09:27:18Z', 'age': 58}, 'registered': {'date': '2005-09-17T01:58:30Z', 'age': 13}, 'phone': '(083)-223-7994', 'cell': '(259)-347-6561', 'id': {'name': 'SSN', 'value': '825-20-3745'}, 'picture': {'large': 'https://randomuser.me/api/portraits/men/61.jpg', 'medium': 'https://randomuser.me/api/portraits/med/men/61.jpg', 'thumbnail': 'https://randomuser.me/api/portraits/thumb/men/61.jpg'}, 'nat': 'US'}], 'info': {'seed': '7b4875b3192689cc', 'results': 1, 'page': 1, 'version': '1.2'}}\n",
      "The first name is:\n",
      "jacob\n",
      "\n",
      "{'results': [{'gender': 'male', 'name': {'title': 'mr', 'first': 'ricky', 'last': 'murray'}, 'location': {'street': '5330 frances ct', 'city': 'reno', 'state': 'iowa', 'postcode': 86728, 'coordinates': {'latitude': '87.9518', 'longitude': '110.9620'}, 'timezone': {'offset': '+9:00', 'description': 'Tokyo, Seoul, Osaka, Sapporo, Yakutsk'}}, 'email': 'ricky.murray@example.com', 'login': {'uuid': 'ae84b4d2-cbeb-417d-8159-48bbb9e1fc4d', 'username': 'beautifulgoose647', 'password': 'karina', 'salt': 'kXS4SfBZ', 'md5': '08cdbe9721e0b0ea89078fdc2605dd0b', 'sha1': 'b525127e707a4711376d48379e584e0bdef42c0e', 'sha256': '5f1118143d84c5e3ddff4f3a58120531094aee2e376e42a715e0b47405dbce27'}, 'dob': {'date': '1960-04-01T21:57:40Z', 'age': 59}, 'registered': {'date': '2011-04-12T20:59:58Z', 'age': 8}, 'phone': '(775)-819-7282', 'cell': '(419)-995-7656', 'id': {'name': 'SSN', 'value': '177-33-0415'}, 'picture': {'large': 'https://randomuser.me/api/portraits/men/70.jpg', 'medium': 'https://randomuser.me/api/portraits/med/men/70.jpg', 'thumbnail': 'https://randomuser.me/api/portraits/thumb/men/70.jpg'}, 'nat': 'US'}], 'info': {'seed': '9d57f6da0f3cb0d2', 'results': 1, 'page': 1, 'version': '1.2'}}\n",
      "The first name is:\n",
      "ricky\n",
      "\n",
      "{'results': [{'gender': 'male', 'name': {'title': 'mr', 'first': 'dave', 'last': 'hale'}, 'location': {'street': '1893 photinia ave', 'city': 'iowa park', 'state': 'alaska', 'postcode': 57913, 'coordinates': {'latitude': '-85.6537', 'longitude': '-95.5958'}, 'timezone': {'offset': '+1:00', 'description': 'Brussels, Copenhagen, Madrid, Paris'}}, 'email': 'dave.hale@example.com', 'login': {'uuid': '5739708d-c1b9-4ac6-8ea2-a06e7bbdc93f', 'username': 'tinyostrich268', 'password': 'rootbeer', 'salt': '2WgSJPYy', 'md5': '0422040bafece7d95b1bb85271346c16', 'sha1': '3dc0c67490cc5d4436e252c3cdb1b513a11c1dd3', 'sha256': 'b9f814ec17fa497ae74aed6a2e7266c1aabfba3f32844621978d797f7a71fc3f'}, 'dob': {'date': '1980-03-30T21:09:41Z', 'age': 39}, 'registered': {'date': '2002-04-15T10:07:38Z', 'age': 17}, 'phone': '(947)-787-5292', 'cell': '(666)-007-5055', 'id': {'name': 'SSN', 'value': '558-62-9286'}, 'picture': {'large': 'https://randomuser.me/api/portraits/men/40.jpg', 'medium': 'https://randomuser.me/api/portraits/med/men/40.jpg', 'thumbnail': 'https://randomuser.me/api/portraits/thumb/men/40.jpg'}, 'nat': 'US'}], 'info': {'seed': 'e8c4afc4c4232039', 'results': 1, 'page': 1, 'version': '1.2'}}\n",
      "The first name is:\n",
      "dave\n",
      "\n",
      "{'results': [{'gender': 'male', 'name': {'title': 'mr', 'first': 'norman', 'last': 'morris'}, 'location': {'street': '9049 royal ln', 'city': 'rancho cucamonga', 'state': 'california', 'postcode': 68819, 'coordinates': {'latitude': '26.3725', 'longitude': '85.5581'}, 'timezone': {'offset': '-12:00', 'description': 'Eniwetok, Kwajalein'}}, 'email': 'norman.morris@example.com', 'login': {'uuid': '90ebb1a3-0a1f-40b8-b8d8-95a5304343c0', 'username': 'lazyswan553', 'password': 'player1', 'salt': 'maQf8bRF', 'md5': 'ca46cfe3d05283c672081b9774ae381e', 'sha1': '8434a5d88a198da4bedb7229835d848b75240a34', 'sha256': '73a11053cc7df9b3948cfa0547da72e9f86331088c0508fe83996b4cb6c79617'}, 'dob': {'date': '1977-07-30T02:22:29Z', 'age': 41}, 'registered': {'date': '2008-03-18T04:38:57Z', 'age': 11}, 'phone': '(310)-222-2701', 'cell': '(728)-572-4196', 'id': {'name': 'SSN', 'value': '014-48-4573'}, 'picture': {'large': 'https://randomuser.me/api/portraits/men/66.jpg', 'medium': 'https://randomuser.me/api/portraits/med/men/66.jpg', 'thumbnail': 'https://randomuser.me/api/portraits/thumb/men/66.jpg'}, 'nat': 'US'}], 'info': {'seed': '73540458e9ea1e2a', 'results': 1, 'page': 1, 'version': '1.2'}}\n",
      "The first name is:\n",
      "norman\n",
      "\n"
     ]
    }
   ],
   "source": [
    "#getting 10 users and their first name\n",
    "for i in range(10):\n",
    "    i = requests.get(\"https://api.randomuser.me/\", params=parameters)\n",
    "    response_data = i.json()\n",
    "    result= response_data['results']\n",
    "    print(response_data)\n",
    "    #printing the first name of the 10 users\n",
    "    for m in range(len(result)):\n",
    "        print(\"The first name is:\")\n",
    "        print(result[m]['name']['first'])\n",
    "        print()\n"
   ]
  },
  {
   "cell_type": "code",
   "execution_count": 173,
   "metadata": {},
   "outputs": [
    {
     "name": "stdout",
     "output_type": "stream",
     "text": [
      "<class 'dict'>\n"
     ]
    }
   ],
   "source": [
    "print(type(response_data))"
   ]
  },
  {
   "cell_type": "code",
   "execution_count": 155,
   "metadata": {},
   "outputs": [
    {
     "name": "stdout",
     "output_type": "stream",
     "text": [
      "{'message': 'success',\n",
      " 'number': 6,\n",
      " 'people': [{'craft': 'ISS', 'name': 'Oleg Kononenko'},\n",
      "            {'craft': 'ISS', 'name': 'David Saint-Jacques'},\n",
      "            {'craft': 'ISS', 'name': 'Anne McClain'},\n",
      "            {'craft': 'ISS', 'name': 'Alexey Ovchinin'},\n",
      "            {'craft': 'ISS', 'name': 'Nick Hague'},\n",
      "            {'craft': 'ISS', 'name': 'Christina Koch'}]}\n"
     ]
    }
   ],
   "source": [
    "#Astronauts in the space\n",
    "x = requests.get(\"http://api.open-notify.org/astros.json\")\n",
    "res_data = x.json()\n",
    "pprint(res_data)\n"
   ]
  },
  {
   "cell_type": "code",
   "execution_count": 156,
   "metadata": {},
   "outputs": [
    {
     "name": "stdout",
     "output_type": "stream",
     "text": [
      "6\n"
     ]
    }
   ],
   "source": [
    "#number of astronauts in the space\n",
    "print(res_data['number'])"
   ]
  },
  {
   "cell_type": "code",
   "execution_count": 157,
   "metadata": {},
   "outputs": [
    {
     "name": "stdout",
     "output_type": "stream",
     "text": [
      "Oleg Kononenko\n",
      "David Saint-Jacques\n",
      "Anne McClain\n",
      "Alexey Ovchinin\n",
      "Nick Hague\n",
      "Christina Koch\n"
     ]
    }
   ],
   "source": [
    "#first name of the astronauts\n",
    "peop = res_data['people']\n",
    "for i in range(6):\n",
    "    print(peop[i]['name'])"
   ]
  },
  {
   "cell_type": "code",
   "execution_count": 182,
   "metadata": {},
   "outputs": [
    {
     "name": "stdout",
     "output_type": "stream",
     "text": [
      "[{'id': 0,\n",
      "  'professor': 'Markus Löcher',\n",
      "  'semester': '1',\n",
      "  'title': 'Data Science'},\n",
      " {'id': 1,\n",
      "  'professor': 'Roland M. Mueller',\n",
      "  'semester': '1',\n",
      "  'title': 'Data Warehousing'},\n",
      " {'id': 2,\n",
      "  'professor': 'Frank Habermann',\n",
      "  'semester': '1',\n",
      "  'title': 'Business Process Management'},\n",
      " {'id': 3,\n",
      "  'professor': 'Sven Pohland',\n",
      "  'semester': '1',\n",
      "  'title': 'Stratigic Issues of IT'},\n",
      " {'id': 4,\n",
      "  'professor': 'Markus Löcher',\n",
      "  'semester': '2',\n",
      "  'title': 'Text, Web and Social Media Analytics Lab'},\n",
      " {'id': 5,\n",
      "  'professor': 'Roland M. Mueller',\n",
      "  'semester': '2',\n",
      "  'title': 'Enterprise Architectures for Big Data'},\n",
      " {'id': 6,\n",
      "  'professor': 'Frank Habermann',\n",
      "  'semester': '2',\n",
      "  'title': 'Business Process Integration Lab'},\n",
      " {'id': 7,\n",
      "  'professor': 'Dennis Uckel',\n",
      "  'semester': '2',\n",
      "  'title': 'IT-Security and Privacy'},\n",
      " {'id': 8,\n",
      "  'professor': 'Marcus Birkenkrahe',\n",
      "  'semester': '2',\n",
      "  'title': 'Research Methods'}]\n"
     ]
    }
   ],
   "source": [
    "#API for the BIPM course details\n",
    "course = requests.get('http://192.168.99.100:5000/api/v1/courses/all')\n",
    "course_data = course.json()\n",
    "pprint(course_data)\n"
   ]
  },
  {
   "cell_type": "code",
   "execution_count": 183,
   "metadata": {},
   "outputs": [
    {
     "name": "stdout",
     "output_type": "stream",
     "text": [
      "Data Science\n",
      "Data Warehousing\n",
      "Business Process Management\n",
      "Stratigic Issues of IT\n",
      "Text, Web and Social Media Analytics Lab\n",
      "Enterprise Architectures for Big Data\n",
      "Business Process Integration Lab\n",
      "IT-Security and Privacy\n",
      "Research Methods\n"
     ]
    }
   ],
   "source": [
    "#printing names of all the courses\n",
    "for i in range(9):\n",
    "    print(course_data[i]['title'])"
   ]
  },
  {
   "cell_type": "code",
   "execution_count": 196,
   "metadata": {},
   "outputs": [
    {
     "name": "stdout",
     "output_type": "stream",
     "text": [
      "Text, Web and Social Media Analytics Lab\n",
      "Enterprise Architectures for Big Data\n",
      "Business Process Integration Lab\n",
      "IT-Security and Privacy\n",
      "Research Methods\n"
     ]
    }
   ],
   "source": [
    "#to find courses based on the semester, we could add parameters for semester 1 or 2 \n",
    "#http://192.168.99.100:5000/api/v1/courses/all?semester=1\n",
    "#http://192.168.99.100:5000/api/v1/courses/all?semester=2\n",
    "#printing courses for the second semester\n",
    "for i in range(9): \n",
    "    if course_data[i]['semester'] == '2':\n",
    "        print (course_data[i]['title'])"
   ]
  },
  {
   "cell_type": "code",
   "execution_count": null,
   "metadata": {},
   "outputs": [
    {
     "name": "stdout",
     "output_type": "stream",
     "text": [
      " * Serving Flask app \"__main__\" (lazy loading)\n",
      " * Environment: production\n",
      "   WARNING: Do not use the development server in a production environment.\n",
      "   Use a production WSGI server instead.\n",
      " * Debug mode: off\n"
     ]
    },
    {
     "name": "stderr",
     "output_type": "stream",
     "text": [
      " * Running on http://0.0.0.0:80/ (Press CTRL+C to quit)\n"
     ]
    }
   ],
   "source": [
    "#Defining the temperature converter API\n",
    "\n",
    "#!/usr/bin/env python3\n",
    "from flask import Flask\n",
    "from flask import request, jsonify\n",
    "\n",
    "app = Flask(__name__)\n",
    "converter =[]\n",
    "def C(f):\n",
    "    c = (5.0/9)*(f - 32)\n",
    "    return c\n",
    "    \n",
    "    @app.route('/api/v1/converter/all', methods=['GET'])\n",
    "    def api_all():\n",
    "        return jsonify(c)\n",
    "\n",
    "\n",
    "\n",
    "if __name__ == \"__main__\":\n",
    "    app.run(host=\"0.0.0.0\", port=80)\n"
   ]
  },
  {
   "cell_type": "code",
   "execution_count": null,
   "metadata": {},
   "outputs": [],
   "source": []
  }
 ],
 "metadata": {
  "kernelspec": {
   "display_name": "Python 3",
   "language": "python",
   "name": "python3"
  },
  "language_info": {
   "codemirror_mode": {
    "name": "ipython",
    "version": 3
   },
   "file_extension": ".py",
   "mimetype": "text/x-python",
   "name": "python",
   "nbconvert_exporter": "python",
   "pygments_lexer": "ipython3",
   "version": "3.7.0"
  }
 },
 "nbformat": 4,
 "nbformat_minor": 2
}
