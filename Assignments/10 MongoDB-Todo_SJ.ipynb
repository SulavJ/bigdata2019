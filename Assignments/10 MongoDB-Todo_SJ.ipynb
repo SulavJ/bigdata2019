{
 "cells": [
  {
   "cell_type": "markdown",
   "metadata": {},
   "source": [
    "# MongoDB\n",
    "\n",
    "Based on https://docs.mongodb.com/getting-started \n"
   ]
  },
  {
   "cell_type": "markdown",
   "metadata": {},
   "source": [
    "MongoDB is a **NoSQL** open-source **document database**.  MongoDB provides horizontal scaling by replicating and partitioning the data over multiple nodes. This can improve the reliability and scalability of the system.\n",
    "\n",
    "A record in MongoDB is a **document**, which is a data structure composed of field and value pairs. MongoDB documents are similar to JSON objects or Python dictionaries. The values of fields may include other documents, arrays, and arrays of documents.\n",
    "\n",
    "This is an example of a document:\n",
    "```JSON\n",
    "{\n",
    "   \"_id\" : ObjectId(\"54c955492b7c8eb21818bd09\"),\n",
    "   \"address\" : {\n",
    "      \"street\" : \"2 Avenue\",\n",
    "      \"zipcode\" : \"10075\",\n",
    "      \"building\" : \"1480\",\n",
    "      \"coord\" : [ -73.9557413, 40.7720266 ]\n",
    "   },\n",
    "   \"borough\" : \"Manhattan\",\n",
    "   \"cuisine\" : \"Italian\",\n",
    "   \"grades\" : [\n",
    "      {\n",
    "         \"date\" : ISODate(\"2014-10-01T00:00:00Z\"),\n",
    "         \"grade\" : \"A\",\n",
    "         \"score\" : 11\n",
    "      },\n",
    "      {\n",
    "         \"date\" : ISODate(\"2014-01-16T00:00:00Z\"),\n",
    "         \"grade\" : \"B\",\n",
    "         \"score\" : 17\n",
    "      }\n",
    "   ],\n",
    "   \"name\" : \"Vella\",\n",
    "   \"restaurant_id\" : \"41704620\"\n",
    "}\n",
    "```\n",
    "In MongoDB, documents have a unique **_id** field that acts as a primary key. MongoDB automatically adds a unique _id to each document if you are not providing it by yourself.\n",
    "\n",
    "MongoDB stores documents in **collections**. Collections are analogous to tables in relational databases. Unlike a table, however, a collection does not require its documents to have the same schema.\n",
    "\n",
    "You can start a Docker image with MongoDB like this:\n",
    "```bash\n",
    "docker run -p 27017:27017 -d mongo:4.0-xenial\n",
    "```\n",
    "\n",
    "In production you really (!) would need to enable authentication with username and password, but for development purposes this is fine."
   ]
  },
  {
   "cell_type": "code",
   "execution_count": 1,
   "metadata": {
    "collapsed": true
   },
   "outputs": [],
   "source": [
    "# Install the pymongo Python Package \n",
    "# !pip3 install pymongo"
   ]
  },
  {
   "cell_type": "code",
   "execution_count": 2,
   "metadata": {
    "collapsed": true
   },
   "outputs": [],
   "source": [
    "from pymongo import MongoClient\n",
    "from pprint import pprint\n",
    "import requests "
   ]
  },
  {
   "cell_type": "markdown",
   "metadata": {},
   "source": [
    "Use MongoClient to create a connection. If you do not specify any arguments to MongoClient, then MongoClient defaults to the MongoDB instance that runs on the localhost interface on port 27017. You can also specify a complete MongoDB URI to define the connection, including explicitly specifying the host and port number. For example, the following creates a connection to a MongoDB instance that runs on mongodb0.example.net and the port of 27017: client = MongoClient(\"mongodb://mongodb0.example.net:27017\")"
   ]
  },
  {
   "cell_type": "code",
   "execution_count": 3,
   "metadata": {
    "collapsed": true
   },
   "outputs": [],
   "source": [
    "# Client connects to \"localhost\" by default \n",
    "client = MongoClient(\"192.168.99.100:27017\")"
   ]
  },
  {
   "cell_type": "markdown",
   "metadata": {},
   "source": [
    "The first fundamental class of objects you will interact with using pymongo is Database which represents the database construct in MongoDB. Databases hold groups of logically related collections. MongoDB creates new databases implicitly upon their first use. Connect (create) with a database of your name, e.g. \n",
    "\n",
    "```python\n",
    "db = client[\"rolandmueller\"]\n",
    "``` \n",
    "or \n",
    "\n",
    "```python\n",
    "db = client.rolandmueller\n",
    "```"
   ]
  },
  {
   "cell_type": "code",
   "execution_count": 4,
   "metadata": {
    "collapsed": true
   },
   "outputs": [],
   "source": [
    "# Create local \"bipm\" database on the fly \n",
    "db = client['bipm']"
   ]
  },
  {
   "cell_type": "code",
   "execution_count": 5,
   "metadata": {
    "collapsed": true
   },
   "outputs": [],
   "source": [
    "# When we rerun the whole notebook, we start from scratch \n",
    "# by dropping the colection \"courses\"\n",
    "db.courses.drop()"
   ]
  },
  {
   "cell_type": "code",
   "execution_count": 6,
   "metadata": {
    "collapsed": true
   },
   "outputs": [],
   "source": [
    "# Create a Python Dictonary\n",
    "courses = [\n",
    "    {'title': 'Data Science',\n",
    "     'lecturer': {\n",
    "         'name': 'Markus Löcher',\n",
    "         'department': 'Math',\n",
    "         'status': 'Professor'\n",
    "     },\n",
    "     'semester': 1},\n",
    "    {'title': 'Data Warehousing',\n",
    "     'lecturer': {\n",
    "         'name': 'Roland M. Mueller',\n",
    "         'department': 'Information Systems',\n",
    "         'status': 'Professor'\n",
    "     },\n",
    "     'semester': 1},\n",
    "    {'title': 'Business Process Management',\n",
    "     'lecturer': {\n",
    "         'name': 'Frank Habermann',\n",
    "         'department': 'Information Systems',\n",
    "         'status': 'Professor'\n",
    "     },\n",
    "     'semester': 1},\n",
    "    {'title': 'Stratigic Issues of IT',\n",
    "     'lecturer': {\n",
    "         'name': 'Sven Pohland',\n",
    "         'department': 'Information Systems',\n",
    "         'status': 'Professor'\n",
    "     },\n",
    "     'semester': 1},\n",
    "    {'title': 'Text, Web and Social Media Analytics Lab',\n",
    "     'lecturer': {\n",
    "         'name': 'Markus Löcher',\n",
    "         'department': 'Math',\n",
    "         'status': 'Professor'\n",
    "     },\n",
    "     'semester': 2},\n",
    "    {'title': 'Enterprise Architectures for Big Data',\n",
    "     'lecturer': {\n",
    "         'name': 'Roland M. Mueller',\n",
    "         'department': 'Information Systems',\n",
    "         'status': 'Professor'\n",
    "     },\n",
    "     'semester': 2},\n",
    "    {'title': 'Business Process Integration Lab',\n",
    "     'lecturer': {\n",
    "         'name': 'Frank Habermann',\n",
    "         'department': 'Information Systems',\n",
    "         'status': 'Professor'\n",
    "     },\n",
    "     'semester': 2},\n",
    "    {'title': 'IT-Security and Privacy',\n",
    "     'lecturer': {\n",
    "         'name': 'Dennis Uckel',\n",
    "         'department': 'Information Systems',\n",
    "         'status': 'External'\n",
    "     },\n",
    "     'semester': 2},\n",
    "    {'title': 'Research Methods',\n",
    "     'lecturer': {\n",
    "         'name': 'Marcus Birkenkrahe',\n",
    "         'department': 'Information Systems',\n",
    "         'status': 'Professor'\n",
    "     },\n",
    "     'semester': 2},\n",
    "]"
   ]
  },
  {
   "cell_type": "code",
   "execution_count": 7,
   "metadata": {},
   "outputs": [
    {
     "name": "stdout",
     "output_type": "stream",
     "text": [
      "[{'lecturer': {'department': 'Math',\n",
      "               'name': 'Markus Löcher',\n",
      "               'status': 'Professor'},\n",
      "  'semester': 1,\n",
      "  'title': 'Data Science'},\n",
      " {'lecturer': {'department': 'Information Systems',\n",
      "               'name': 'Roland M. Mueller',\n",
      "               'status': 'Professor'},\n",
      "  'semester': 1,\n",
      "  'title': 'Data Warehousing'},\n",
      " {'lecturer': {'department': 'Information Systems',\n",
      "               'name': 'Frank Habermann',\n",
      "               'status': 'Professor'},\n",
      "  'semester': 1,\n",
      "  'title': 'Business Process Management'},\n",
      " {'lecturer': {'department': 'Information Systems',\n",
      "               'name': 'Sven Pohland',\n",
      "               'status': 'Professor'},\n",
      "  'semester': 1,\n",
      "  'title': 'Stratigic Issues of IT'},\n",
      " {'lecturer': {'department': 'Math',\n",
      "               'name': 'Markus Löcher',\n",
      "               'status': 'Professor'},\n",
      "  'semester': 2,\n",
      "  'title': 'Text, Web and Social Media Analytics Lab'},\n",
      " {'lecturer': {'department': 'Information Systems',\n",
      "               'name': 'Roland M. Mueller',\n",
      "               'status': 'Professor'},\n",
      "  'semester': 2,\n",
      "  'title': 'Enterprise Architectures for Big Data'},\n",
      " {'lecturer': {'department': 'Information Systems',\n",
      "               'name': 'Frank Habermann',\n",
      "               'status': 'Professor'},\n",
      "  'semester': 2,\n",
      "  'title': 'Business Process Integration Lab'},\n",
      " {'lecturer': {'department': 'Information Systems',\n",
      "               'name': 'Dennis Uckel',\n",
      "               'status': 'External'},\n",
      "  'semester': 2,\n",
      "  'title': 'IT-Security and Privacy'},\n",
      " {'lecturer': {'department': 'Information Systems',\n",
      "               'name': 'Marcus Birkenkrahe',\n",
      "               'status': 'Professor'},\n",
      "  'semester': 2,\n",
      "  'title': 'Research Methods'}]\n"
     ]
    }
   ],
   "source": [
    "pprint(courses)"
   ]
  },
  {
   "cell_type": "markdown",
   "metadata": {},
   "source": [
    "## insert_many()\n",
    "\n",
    "You can use the `insert_one()` method and the `insert_many()` method to add documents to a collection in MongoDB. If you attempt to add documents to a collection that does not exist, MongoDB will create the collection for you."
   ]
  },
  {
   "cell_type": "code",
   "execution_count": 8,
   "metadata": {},
   "outputs": [
    {
     "data": {
      "text/plain": [
       "<pymongo.results.InsertManyResult at 0x61c5a48>"
      ]
     },
     "execution_count": 8,
     "metadata": {},
     "output_type": "execute_result"
    }
   ],
   "source": [
    "db.courses.insert_many(courses)"
   ]
  },
  {
   "cell_type": "markdown",
   "metadata": {},
   "source": [
    "## find()\n",
    "\n",
    "You can use the find() method to issue a query to retrieve data from a collection in MongoDB. All queries in MongoDB have the scope of a single collection.\n",
    "Queries can return all documents in a collection or only the documents that match a specified filter or criteria. You can specify the filter or criteria in a document and pass as a parameter to the find() method. With no parameter, find() returns all documents in the collection.\n",
    "\n",
    "The find() method returns query results in a cursor, which is an iterable object that yields documents. Then you can print all documents.\n",
    "\n",
    "```python\n",
    "cursor = db.my_collection.find()\n",
    "\n",
    "for document in cursor:\n",
    "    pprint(document)\n",
    "```\n"
   ]
  },
  {
   "cell_type": "code",
   "execution_count": 18,
   "metadata": {},
   "outputs": [
    {
     "name": "stdout",
     "output_type": "stream",
     "text": [
      "{'_id': ObjectId('5ccc5912c72f31b4784e4b35'),\n",
      " 'lecturer': {'department': 'Math',\n",
      "              'name': 'Markus Löcher',\n",
      "              'status': 'Professor'},\n",
      " 'semester': 1,\n",
      " 'title': 'Data Science'}\n",
      "{'_id': ObjectId('5ccc5912c72f31b4784e4b36'),\n",
      " 'lecturer': {'department': 'Information Systems',\n",
      "              'name': 'Roland M. Mueller',\n",
      "              'status': 'Professor'},\n",
      " 'semester': 1,\n",
      " 'title': 'Data Warehousing'}\n",
      "{'_id': ObjectId('5ccc5912c72f31b4784e4b37'),\n",
      " 'lecturer': {'department': 'Information Systems',\n",
      "              'name': 'Frank Habermann',\n",
      "              'status': 'Professor'},\n",
      " 'semester': 1,\n",
      " 'title': 'Business Process Management'}\n",
      "{'_id': ObjectId('5ccc5912c72f31b4784e4b38'),\n",
      " 'lecturer': {'department': 'Information Systems',\n",
      "              'name': 'Sven Pohland',\n",
      "              'status': 'Professor'},\n",
      " 'semester': 1,\n",
      " 'title': 'Stratigic Issues of IT'}\n",
      "{'_id': ObjectId('5ccc5912c72f31b4784e4b39'),\n",
      " 'lecturer': {'department': 'Math',\n",
      "              'name': 'Markus Löcher',\n",
      "              'status': 'Professor'},\n",
      " 'semester': 2,\n",
      " 'title': 'Text, Web and Social Media Analytics Lab'}\n",
      "{'_id': ObjectId('5ccc5912c72f31b4784e4b3a'),\n",
      " 'lecturer': {'department': 'Information Systems',\n",
      "              'name': 'Roland M. Mueller',\n",
      "              'status': 'Professor'},\n",
      " 'semester': 2,\n",
      " 'title': 'Enterprise Architectures for Big Data'}\n",
      "{'_id': ObjectId('5ccc5912c72f31b4784e4b3b'),\n",
      " 'lecturer': {'department': 'Information Systems',\n",
      "              'name': 'Frank Habermann',\n",
      "              'status': 'Professor'},\n",
      " 'semester': 2,\n",
      " 'title': 'Business Process Integration Lab'}\n",
      "{'_id': ObjectId('5ccc5912c72f31b4784e4b3c'),\n",
      " 'lecturer': {'department': 'Information Systems',\n",
      "              'name': 'Dennis Uckel',\n",
      "              'status': 'External'},\n",
      " 'semester': 2,\n",
      " 'title': 'IT-Security and Privacy'}\n",
      "{'_id': ObjectId('5ccc5912c72f31b4784e4b3d'),\n",
      " 'lecturer': {'department': 'Information Systems',\n",
      "              'name': 'Marcus Birkenkrahe',\n",
      "              'status': 'Professor'},\n",
      " 'semester': 2,\n",
      " 'title': 'Research Methods'}\n"
     ]
    }
   ],
   "source": [
    "# TODO: Print all courses\n",
    "curs = db.courses.find()\n",
    "\n",
    "for docs in curs: \n",
    "    pprint(docs)"
   ]
  },
  {
   "cell_type": "markdown",
   "metadata": {},
   "source": [
    "## JSON\n",
    "\n",
    "You can store a JSON document if you convert it before to a Python dictionary:"
   ]
  },
  {
   "cell_type": "code",
   "execution_count": 20,
   "metadata": {},
   "outputs": [
    {
     "data": {
      "text/plain": [
       "{'title': 'Master Thesis', 'semester': 3}"
      ]
     },
     "execution_count": 20,
     "metadata": {},
     "output_type": "execute_result"
    }
   ],
   "source": [
    "import json\n",
    "my_json = '{\"title\": \"Master Thesis\", \"semester\": 3}'\n",
    "another_course = json.loads(my_json)\n",
    "another_course"
   ]
  },
  {
   "cell_type": "markdown",
   "metadata": {},
   "source": [
    "## insert_one()\n",
    "\n",
    "The `insert_one()` method adds the document into the collection.\n"
   ]
  },
  {
   "cell_type": "code",
   "execution_count": 21,
   "metadata": {},
   "outputs": [
    {
     "data": {
      "text/plain": [
       "<pymongo.results.InsertOneResult at 0x61c5648>"
      ]
     },
     "execution_count": 21,
     "metadata": {},
     "output_type": "execute_result"
    }
   ],
   "source": [
    "# TODO: Store `another_course` as another course:\n",
    "db.courses.insert_one(another_course)"
   ]
  },
  {
   "cell_type": "code",
   "execution_count": 23,
   "metadata": {},
   "outputs": [
    {
     "name": "stdout",
     "output_type": "stream",
     "text": [
      "{'_id': ObjectId('5ccc5912c72f31b4784e4b35'),\n",
      " 'lecturer': {'department': 'Math',\n",
      "              'name': 'Markus Löcher',\n",
      "              'status': 'Professor'},\n",
      " 'semester': 1,\n",
      " 'title': 'Data Science'}\n",
      "{'_id': ObjectId('5ccc5912c72f31b4784e4b36'),\n",
      " 'lecturer': {'department': 'Information Systems',\n",
      "              'name': 'Roland M. Mueller',\n",
      "              'status': 'Professor'},\n",
      " 'semester': 1,\n",
      " 'title': 'Data Warehousing'}\n",
      "{'_id': ObjectId('5ccc5912c72f31b4784e4b37'),\n",
      " 'lecturer': {'department': 'Information Systems',\n",
      "              'name': 'Frank Habermann',\n",
      "              'status': 'Professor'},\n",
      " 'semester': 1,\n",
      " 'title': 'Business Process Management'}\n",
      "{'_id': ObjectId('5ccc5912c72f31b4784e4b38'),\n",
      " 'lecturer': {'department': 'Information Systems',\n",
      "              'name': 'Sven Pohland',\n",
      "              'status': 'Professor'},\n",
      " 'semester': 1,\n",
      " 'title': 'Stratigic Issues of IT'}\n",
      "{'_id': ObjectId('5ccc5912c72f31b4784e4b39'),\n",
      " 'lecturer': {'department': 'Math',\n",
      "              'name': 'Markus Löcher',\n",
      "              'status': 'Professor'},\n",
      " 'semester': 2,\n",
      " 'title': 'Text, Web and Social Media Analytics Lab'}\n",
      "{'_id': ObjectId('5ccc5912c72f31b4784e4b3a'),\n",
      " 'lecturer': {'department': 'Information Systems',\n",
      "              'name': 'Roland M. Mueller',\n",
      "              'status': 'Professor'},\n",
      " 'semester': 2,\n",
      " 'title': 'Enterprise Architectures for Big Data'}\n",
      "{'_id': ObjectId('5ccc5912c72f31b4784e4b3b'),\n",
      " 'lecturer': {'department': 'Information Systems',\n",
      "              'name': 'Frank Habermann',\n",
      "              'status': 'Professor'},\n",
      " 'semester': 2,\n",
      " 'title': 'Business Process Integration Lab'}\n",
      "{'_id': ObjectId('5ccc5912c72f31b4784e4b3c'),\n",
      " 'lecturer': {'department': 'Information Systems',\n",
      "              'name': 'Dennis Uckel',\n",
      "              'status': 'External'},\n",
      " 'semester': 2,\n",
      " 'title': 'IT-Security and Privacy'}\n",
      "{'_id': ObjectId('5ccc5912c72f31b4784e4b3d'),\n",
      " 'lecturer': {'department': 'Information Systems',\n",
      "              'name': 'Marcus Birkenkrahe',\n",
      "              'status': 'Professor'},\n",
      " 'semester': 2,\n",
      " 'title': 'Research Methods'}\n",
      "{'_id': ObjectId('5ccc5b89c72f31b4784e4b3e'),\n",
      " 'semester': 3,\n",
      " 'title': 'Master Thesis'}\n"
     ]
    }
   ],
   "source": [
    "# TODO: Print all courses\n",
    "curs = db.courses.find()\n",
    "\n",
    "for docs in curs: \n",
    "    pprint(docs)\n"
   ]
  },
  {
   "cell_type": "markdown",
   "metadata": {},
   "source": [
    "## find_one() and find()\n",
    "\n",
    "`find_one()` returns the first match. ```find()```returns all matches.\n",
    "\n",
    "The query condition for `find_one()` and `find()` for an equality match on fields has the following form:\n",
    "```python\n",
    "{ <field1>: <value1>, <field2>: <value2>, ... } \n",
    "```\n",
    "\n",
    "The following operation finds the first documents whose name field equals \"Manhattan\".\n",
    "\n",
    "```python\n",
    "cursor = db.restaurants.find_one({\"name\": \"Manhattan\"})\n",
    "```\n"
   ]
  },
  {
   "cell_type": "code",
   "execution_count": 25,
   "metadata": {},
   "outputs": [
    {
     "name": "stdout",
     "output_type": "stream",
     "text": [
      "{'_id': ObjectId('5ccc5912c72f31b4784e4b35'),\n",
      " 'lecturer': {'department': 'Math',\n",
      "              'name': 'Markus Löcher',\n",
      "              'status': 'Professor'},\n",
      " 'semester': 1,\n",
      " 'title': 'Data Science'}\n"
     ]
    }
   ],
   "source": [
    "# TODO: Find the course with the title \"Data Science\" \n",
    "# save the result in a varibale result\n",
    "# and pprint the result.\n",
    "ds = db.courses.find({'title':'Data Science'})\n",
    "for result in ds:\n",
    "    pprint(result)"
   ]
  },
  {
   "cell_type": "code",
   "execution_count": 27,
   "metadata": {},
   "outputs": [
    {
     "name": "stdout",
     "output_type": "stream",
     "text": [
      "5ccc5912c72f31b4784e4b35\n",
      "Markus Löcher\n"
     ]
    }
   ],
   "source": [
    "print(result[\"_id\"])\n",
    "print(result[\"lecturer\"][\"name\"])"
   ]
  },
  {
   "cell_type": "code",
   "execution_count": 29,
   "metadata": {},
   "outputs": [
    {
     "name": "stdout",
     "output_type": "stream",
     "text": [
      "Math\n"
     ]
    }
   ],
   "source": [
    "print(result[\"lecturer\"][\"department\"])"
   ]
  },
  {
   "cell_type": "code",
   "execution_count": 71,
   "metadata": {},
   "outputs": [
    {
     "name": "stdout",
     "output_type": "stream",
     "text": [
      "'_id'\n",
      "'title'\n",
      "'lecturer'\n",
      "'semester'\n"
     ]
    }
   ],
   "source": [
    "# TODO: Find the first course (one course) in the second semester\n",
    "# and print it\n",
    "fircourse= db.courses.find_one({'semester':2})\n",
    "for sub in fircourse:\n",
    "    pprint(sub)"
   ]
  },
  {
   "cell_type": "code",
   "execution_count": 73,
   "metadata": {},
   "outputs": [
    {
     "name": "stdout",
     "output_type": "stream",
     "text": [
      "'Text, Web and Social Media Analytics Lab'\n",
      "'Enterprise Architectures for Big Data'\n",
      "'Business Process Integration Lab'\n",
      "'IT-Security and Privacy'\n",
      "'Research Methods'\n"
     ]
    }
   ],
   "source": [
    "# TODO: Find all courses in the second semester\n",
    "# and print the course titles\n",
    "coursetitle = db.courses.find({'semester':2})\n",
    "for titles in coursetitle: \n",
    "    pprint (titles['title'])"
   ]
  },
  {
   "cell_type": "code",
   "execution_count": 81,
   "metadata": {},
   "outputs": [
    {
     "name": "stdout",
     "output_type": "stream",
     "text": [
      "'Markus Löcher'\n",
      "'Roland M. Mueller'\n",
      "'Frank Habermann'\n",
      "'Dennis Uckel'\n",
      "'Marcus Birkenkrahe'\n"
     ]
    }
   ],
   "source": [
    "# TODO: Find all courses in the second semester\n",
    "# and print the lecturers names\n",
    "coursetitle = db.courses.find({'semester': 2})\n",
    "for lecnames in coursetitle:\n",
    "    pprint(lecnames['lecturer']['name'])"
   ]
  },
  {
   "cell_type": "markdown",
   "metadata": {},
   "source": [
    "## Subelements\n",
    "\n",
    "Sometimes documents contains embedded documents as its elements. To specify a condition on a field in these documents, use the dot notation. Dot notation requires quotes around the whole dotted field name. The following queries for documents whose grades array contains an embedded document with a field grade equal to \"B\".\n",
    "\n",
    "```python\n",
    "cursor = db.restaurants.find({\"grades.grade\": \"B\"})\n",
    "```"
   ]
  },
  {
   "cell_type": "code",
   "execution_count": 98,
   "metadata": {},
   "outputs": [
    {
     "name": "stdout",
     "output_type": "stream",
     "text": [
      "'Business Process Management'\n",
      "1\n",
      "'Business Process Integration Lab'\n",
      "2\n"
     ]
    }
   ],
   "source": [
    "# TODO: Find all courses of Frank Habermann\n",
    "# and print the title and the semester\n",
    "fhcourses= db.courses.find({'lecturer.name': 'Frank Habermann'})\n",
    "for ts in fhcourses:\n",
    "    pprint(ts['title'])\n",
    "    pprint(ts['semester'])"
   ]
  },
  {
   "cell_type": "markdown",
   "metadata": {},
   "source": [
    "## Logical AND\n",
    "\n",
    "You can specify a logical conjunction (AND) for a list of query conditions by separating the conditions with a comma in the conditions document.\n",
    "\n",
    "```python\n",
    "cursor = db.restaurants.find({\"cuisine\": \"Italian\", \"address.zipcode\": \"10075\"})\n",
    "```"
   ]
  },
  {
   "cell_type": "code",
   "execution_count": 99,
   "metadata": {},
   "outputs": [
    {
     "name": "stdout",
     "output_type": "stream",
     "text": [
      "'Business Process Integration Lab'\n",
      "2\n"
     ]
    }
   ],
   "source": [
    "# TODO: Find all courses from Frank Habermann in the second semester\n",
    "# and print the title and the semester\n",
    "fhcourses = db.courses.find({'lecturer.name': 'Frank Habermann', 'semester': 2})\n",
    "for ts in fhcourses: \n",
    "    pprint(ts['title'])\n",
    "    pprint(ts['semester'])"
   ]
  },
  {
   "cell_type": "markdown",
   "metadata": {},
   "source": [
    "## Logical OR\n",
    "\n",
    "You can specify a logical disjunction (OR) for a list of query conditions by using the $or query operator.\n",
    "\n",
    "```python\n",
    "cursor = db.restaurants.find({\"$or\": [{\"cuisine\": \"Italian\"}, {\"address.zipcode\": \"10075\"}]})\n",
    "```\n"
   ]
  },
  {
   "cell_type": "code",
   "execution_count": 105,
   "metadata": {
    "scrolled": true
   },
   "outputs": [
    {
     "name": "stdout",
     "output_type": "stream",
     "text": [
      "'Business Process Management'\n",
      "1\n",
      "'Business Process Integration Lab'\n",
      "2\n"
     ]
    }
   ],
   "source": [
    "# TODO: Find all courses from Frank Habermann or Markus Löcher\n",
    "# and print the title and the semester\n",
    "fhorml= db.courses.find({'$or':[{'lecturer.name':'Frank Habermann'},{'lecturer.name': 'Marcus Löcher'}]})\n",
    "for ts in fhorml:\n",
    "    pprint(ts['title'])\n",
    "    pprint(ts['semester'])"
   ]
  },
  {
   "cell_type": "markdown",
   "metadata": {},
   "source": [
    "## Greater than, Less than\n",
    "\n",
    "MongoDB provides operators to specify query conditions, such as comparison operators. Query conditions using operators generally have the following form:\n",
    "```python\n",
    "{ <field1>: { <operator1>: <value1> } }\n",
    "```\n",
    "\n",
    "Greater Than Operator (`$gt`). Query for documents whose grades array contains an embedded document with a field score greater than 30.\n",
    "\n",
    "```python\n",
    "cursor = db.restaurants.find({\"grades.score\": {\"$gt\": 30}})\n",
    "```\n",
    "\n",
    "Less Than Operator (`$lt`). Query for documents whose grades array contains an embedded document with a field score less than 10.\n",
    "\n",
    "```python\n",
    "cursor = db.restaurants.find({\"grades.score\": {\"$lt\": 10}})\n",
    "```\n",
    "\n"
   ]
  },
  {
   "cell_type": "code",
   "execution_count": 108,
   "metadata": {
    "scrolled": true
   },
   "outputs": [
    {
     "name": "stdout",
     "output_type": "stream",
     "text": [
      "'Text, Web and Social Media Analytics Lab'\n",
      "2\n",
      "'Enterprise Architectures for Big Data'\n",
      "2\n",
      "'Business Process Integration Lab'\n",
      "2\n",
      "'IT-Security and Privacy'\n",
      "2\n",
      "'Research Methods'\n",
      "2\n",
      "'Master Thesis'\n",
      "3\n"
     ]
    }
   ],
   "source": [
    "# TODO: Find all courses in semester greater than 1\n",
    "# and print the title and the semester\n",
    "sem2 = db.courses.find({'semester':{'$gt':1}})\n",
    "for course in sem2:\n",
    "    pprint(course['title'])\n",
    "    pprint(course['semester'])"
   ]
  },
  {
   "cell_type": "markdown",
   "metadata": {},
   "source": [
    "## Counting\n",
    "\n",
    "`count_documents()` works like `find()` but returns the number of matched documents-"
   ]
  },
  {
   "cell_type": "code",
   "execution_count": 110,
   "metadata": {},
   "outputs": [
    {
     "name": "stdout",
     "output_type": "stream",
     "text": [
      "5\n"
     ]
    }
   ],
   "source": [
    "# TODO: How many courses are in the second semester?\n",
    "print(db.courses.count_documents({'semester':2}))"
   ]
  },
  {
   "cell_type": "markdown",
   "metadata": {},
   "source": [
    "# Downloading Nobel Prize Winners with an API and storing them in MongoDB\n",
    "\n",
    "![](https://upload.wikimedia.org/wikipedia/en/e/ed/Nobel_Prize.png)\n",
    "The Nobel Prize offers a Web API https://nobelprize.readme.io/docs/prize\n",
    "\n",
    "Because the API is giving us JSON and MongoDB is able to store documents in a JSON-like format, using a document database like MongoDB seems like a good fit to store the results of the API.  You can get all laureates at http://api.nobelprize.org/v1/laureate.json and all prizes at http://api.nobelprize.org/v1/prize.json\n",
    "\n",
    "We will just download all laureates and prizes and store them in MongoDB!"
   ]
  },
  {
   "cell_type": "code",
   "execution_count": 119,
   "metadata": {},
   "outputs": [],
   "source": [
    "# Create local \"nobel\" database on the fly \n",
    "db = client[\"nobel\"]\n",
    "db.prizes.drop()\n",
    "db.laureates.drop()\n",
    "# API documented at https://nobelprize.readme.io/docs/prize \n",
    "for collection_name in [\"prizes\", \"laureates\"]:\n",
    "    singular = collection_name[:-1] # the API uses singular\n",
    "    response = requests.get( \"http://api.nobelprize.org/v1/{}.json\".format(singular)) \n",
    "    documents = response.json()[collection_name] \n",
    "    # Create collections on the fly \n",
    "    db[collection_name].insert_many(documents)"
   ]
  },
  {
   "cell_type": "code",
   "execution_count": 120,
   "metadata": {},
   "outputs": [
    {
     "name": "stdout",
     "output_type": "stream",
     "text": [
      "{'_id': ObjectId('5ccc7b8bc72f31b4784e5381'),\n",
      " 'born': '1845-03-27',\n",
      " 'bornCity': 'Lennep (now Remscheid)',\n",
      " 'bornCountry': 'Prussia (now Germany)',\n",
      " 'bornCountryCode': 'DE',\n",
      " 'died': '1923-02-10',\n",
      " 'diedCity': 'Munich',\n",
      " 'diedCountry': 'Germany',\n",
      " 'diedCountryCode': 'DE',\n",
      " 'firstname': 'Wilhelm Conrad',\n",
      " 'gender': 'male',\n",
      " 'id': '1',\n",
      " 'prizes': [{'affiliations': [{'city': 'Munich',\n",
      "                               'country': 'Germany',\n",
      "                               'name': 'Munich University'}],\n",
      "             'category': 'physics',\n",
      "             'motivation': '\"in recognition of the extraordinary services he '\n",
      "                           'has rendered by the discovery of the remarkable '\n",
      "                           'rays subsequently named after him\"',\n",
      "             'share': '1',\n",
      "             'year': '1901'}],\n",
      " 'surname': 'Röntgen'}\n"
     ]
    }
   ],
   "source": [
    "pprint(db.laureates.find_one())"
   ]
  },
  {
   "cell_type": "code",
   "execution_count": 130,
   "metadata": {},
   "outputs": [
    {
     "name": "stdout",
     "output_type": "stream",
     "text": [
      "'Wilhelm Conrad'\n"
     ]
    }
   ],
   "source": [
    "# TODO: Print the first name of the first document\n",
    "firstnobel = db.laureates.find({'id':'1'})\n",
    "for firstname in firstnobel:\n",
    "    pprint(firstname['firstname'])"
   ]
  },
  {
   "cell_type": "markdown",
   "metadata": {},
   "source": [
    "With `count_documents` you can count the number of matching documents. "
   ]
  },
  {
   "cell_type": "code",
   "execution_count": 131,
   "metadata": {},
   "outputs": [
    {
     "name": "stdout",
     "output_type": "stream",
     "text": [
      "51\n"
     ]
    }
   ],
   "source": [
    "# How many female laureates exists? \n",
    "femnobel = db.laureates.count_documents({'gender':'female'})\n",
    "print(femnobel)"
   ]
  },
  {
   "cell_type": "markdown",
   "metadata": {},
   "source": [
    "With the `$regex` function you can use a regular expression. `distinct` list only all distinct entries."
   ]
  },
  {
   "cell_type": "code",
   "execution_count": 48,
   "metadata": {},
   "outputs": [
    {
     "data": {
      "text/plain": [
       "['Prussia (now Germany)',\n",
       " 'Hesse-Kassel (now Germany)',\n",
       " 'Germany',\n",
       " 'Schleswig (now Germany)',\n",
       " 'Germany (now Poland)',\n",
       " 'Germany (now France)',\n",
       " 'West Germany (now Germany)',\n",
       " 'Bavaria (now Germany)',\n",
       " 'Germany (now Russia)',\n",
       " 'Mecklenburg (now Germany)',\n",
       " 'W&uuml;rttemberg (now Germany)',\n",
       " 'East Friesland (now Germany)']"
      ]
     },
     "execution_count": 48,
     "metadata": {},
     "output_type": "execute_result"
    }
   ],
   "source": [
    "db.laureates.distinct(\"bornCountry\", {\"bornCountry\": {\"$regex\": \"Germany\"}})"
   ]
  },
  {
   "cell_type": "code",
   "execution_count": 136,
   "metadata": {},
   "outputs": [
    {
     "name": "stdout",
     "output_type": "stream",
     "text": [
      "12\n"
     ]
    }
   ],
   "source": [
    "# TODO: How many laureates are from Germany?\n",
    "l = (db.laureates.distinct('bornCountry',{'bornCountry':{'$regex':'Germany'}}))\n",
    "print(len(l))"
   ]
  },
  {
   "cell_type": "code",
   "execution_count": 178,
   "metadata": {},
   "outputs": [
    {
     "name": "stdout",
     "output_type": "stream",
     "text": [
      "[{'affiliations': [{'city': 'Munich',\n",
      "                    'country': 'Germany',\n",
      "                    'name': 'Munich University'}],\n",
      "  'category': 'physics',\n",
      "  'motivation': '\"in recognition of the extraordinary services he has rendered '\n",
      "                'by the discovery of the remarkable rays subsequently named '\n",
      "                'after him\"',\n",
      "  'share': '1',\n",
      "  'year': '1901'}]\n",
      "'Wilhelm Conrad'\n",
      "[{'affiliations': [{'city': 'Strasbourg',\n",
      "                    'country': 'Alsace (then Germany, now France)',\n",
      "                    'name': 'Strasbourg University'}],\n",
      "  'category': 'physics',\n",
      "  'motivation': '\"in recognition of their contributions to the development of '\n",
      "                'wireless telegraphy\"',\n",
      "  'share': '2',\n",
      "  'year': '1909'}]\n",
      "'Karl Ferdinand'\n",
      "[{'affiliations': [{'city': 'Frankfurt-on-the-Main',\n",
      "                    'country': 'Germany',\n",
      "                    'name': 'Frankfurt-on-the-Main University'}],\n",
      "  'category': 'physics',\n",
      "  'motivation': '\"for his discovery of the diffraction of X-rays by crystals\"',\n",
      "  'share': '1',\n",
      "  'year': '1914'}]\n",
      "'Max'\n",
      "[{'affiliations': [{'city': 'Berlin',\n",
      "                    'country': 'Germany',\n",
      "                    'name': 'Berlin University'}],\n",
      "  'category': 'physics',\n",
      "  'motivation': '\"in recognition of the services he rendered to the '\n",
      "                'advancement of Physics by his discovery of energy quanta\"',\n",
      "  'share': '1',\n",
      "  'year': '1918'}]\n",
      "'Max Karl Ernst Ludwig'\n",
      "[{'affiliations': [{'city': 'Greifswald',\n",
      "                    'country': 'Germany',\n",
      "                    'name': 'Greifswald University'}],\n",
      "  'category': 'physics',\n",
      "  'motivation': '\"for his discovery of the Doppler effect in canal rays and '\n",
      "                'the splitting of spectral lines in electric fields\"',\n",
      "  'share': '1',\n",
      "  'year': '1919'}]\n",
      "'Johannes'\n",
      "[{'affiliations': [{'city': 'Berlin',\n",
      "                    'country': 'Germany',\n",
      "                    'name': 'Kaiser-Wilhelm-Institut (now Max-Planck-Institut) '\n",
      "                            'für Physik'}],\n",
      "  'category': 'physics',\n",
      "  'motivation': '\"for his services to Theoretical Physics, and especially for '\n",
      "                'his discovery of the law of the photoelectric effect\"',\n",
      "  'share': '1',\n",
      "  'year': '1921'}]\n",
      "'Albert'\n",
      "[{'affiliations': [{'city': 'Göttingen',\n",
      "                    'country': 'Germany',\n",
      "                    'name': 'Goettingen University'}],\n",
      "  'category': 'physics',\n",
      "  'motivation': '\"for their discovery of the laws governing the impact of an '\n",
      "                'electron upon an atom\"',\n",
      "  'share': '2',\n",
      "  'year': '1925'}]\n",
      "'James'\n",
      "[{'affiliations': [{'city': 'Halle',\n",
      "                    'country': 'Germany',\n",
      "                    'name': 'Halle University'}],\n",
      "  'category': 'physics',\n",
      "  'motivation': '\"for their discovery of the laws governing the impact of an '\n",
      "                'electron upon an atom\"',\n",
      "  'share': '2',\n",
      "  'year': '1925'}]\n",
      "'Gustav Ludwig'\n",
      "[{'affiliations': [{'city': 'Leipzig',\n",
      "                    'country': 'Germany',\n",
      "                    'name': 'Leipzig University'}],\n",
      "  'category': 'physics',\n",
      "  'motivation': '\"for the creation of quantum mechanics, the application of '\n",
      "                'which has, inter alia, led to the discovery of the allotropic '\n",
      "                'forms of hydrogen\"',\n",
      "  'share': '1',\n",
      "  'year': '1932'}]\n",
      "'Werner Karl'\n",
      "[{'affiliations': [{'city': 'Heidelberg',\n",
      "                    'country': 'Federal Republic of Germany',\n",
      "                    'name': 'University of Heidelberg'},\n",
      "                   {'city': 'Heidelberg',\n",
      "                    'country': 'Federal Republic of Germany',\n",
      "                    'name': 'Max-Planck-Institut für medizinische Forschung'}],\n",
      "  'category': 'physics',\n",
      "  'motivation': '\"for the coincidence method and his discoveries made '\n",
      "                'therewith\"',\n",
      "  'share': '2',\n",
      "  'year': '1954'}]\n",
      "'Walther'\n",
      "[{'affiliations': [{'city': 'New York, NY',\n",
      "                    'country': 'USA',\n",
      "                    'name': 'Columbia University'}],\n",
      "  'category': 'physics',\n",
      "  'motivation': '\"for his precision determination of the magnetic moment of '\n",
      "                'the electron\"',\n",
      "  'share': '2',\n",
      "  'year': '1955'}]\n",
      "'Polykarp'\n",
      "[{'affiliations': [{'city': 'Munich',\n",
      "                    'country': 'Federal Republic of Germany',\n",
      "                    'name': 'Technical University'},\n",
      "                   {'city': 'Pasadena, CA',\n",
      "                    'country': 'USA',\n",
      "                    'name': 'California Institute of Technology (Caltech)'}],\n",
      "  'category': 'physics',\n",
      "  'motivation': '\"for his researches concerning the resonance absorption of '\n",
      "                'gamma radiation and his discovery in this connection of the '\n",
      "                'effect which bears his name\"',\n",
      "  'share': '2',\n",
      "  'year': '1961'}]\n",
      "'Rudolf Ludwig'\n",
      "[{'affiliations': [{'city': 'Heidelberg',\n",
      "                    'country': 'Federal Republic of Germany',\n",
      "                    'name': 'University of Heidelberg'}],\n",
      "  'category': 'physics',\n",
      "  'motivation': '\"for their discoveries concerning nuclear shell structure\"',\n",
      "  'share': '4',\n",
      "  'year': '1963'}]\n",
      "'J. Hans D.'\n",
      "[{'affiliations': [{'city': 'Holmdel, NJ',\n",
      "                    'country': 'USA',\n",
      "                    'name': 'Bell Laboratories'}],\n",
      "  'category': 'physics',\n",
      "  'motivation': '\"for their discovery of cosmic microwave background '\n",
      "                'radiation\"',\n",
      "  'share': '4',\n",
      "  'year': '1978'}]\n",
      "'Arno Allan'\n",
      "[{'affiliations': [{'city': 'Berlin',\n",
      "                    'country': 'Federal Republic of Germany',\n",
      "                    'name': 'Fritz-Haber-Institut der '\n",
      "                            'Max-Planck-Gesellschaft'}],\n",
      "  'category': 'physics',\n",
      "  'motivation': '\"for his fundamental work in electron optics, and for the '\n",
      "                'design of the first electron microscope\"',\n",
      "  'share': '2',\n",
      "  'year': '1986'}]\n",
      "'Ernst'\n",
      "[{'affiliations': [{'city': 'Rüschlikon',\n",
      "                    'country': 'Switzerland',\n",
      "                    'name': 'IBM Zurich Research Laboratory'}],\n",
      "  'category': 'physics',\n",
      "  'motivation': '\"for their design of the scanning tunneling microscope\"',\n",
      "  'share': '4',\n",
      "  'year': '1986'}]\n",
      "'Gerd'\n",
      "[{'affiliations': [{'city': 'Rüschlikon',\n",
      "                    'country': 'Switzerland',\n",
      "                    'name': 'IBM Zurich Research Laboratory'}],\n",
      "  'category': 'physics',\n",
      "  'motivation': '\"for their important break-through in the discovery of '\n",
      "                'superconductivity in ceramic materials\"',\n",
      "  'share': '2',\n",
      "  'year': '1987'}]\n",
      "'J. Georg'\n",
      "[{'affiliations': [{'city': 'Geneva',\n",
      "                    'country': 'Switzerland',\n",
      "                    'name': 'CERN'}],\n",
      "  'category': 'physics',\n",
      "  'motivation': '\"for the neutrino beam method and the demonstration of the '\n",
      "                'doublet structure of the leptons through the discovery of the '\n",
      "                'muon neutrino\"',\n",
      "  'share': '3',\n",
      "  'year': '1988'}]\n",
      "'Jack'\n",
      "[{'affiliations': [{'city': 'Seattle, WA',\n",
      "                    'country': 'USA',\n",
      "                    'name': 'University of Washington'}],\n",
      "  'category': 'physics',\n",
      "  'motivation': '\"for the development of the ion trap technique\"',\n",
      "  'share': '4',\n",
      "  'year': '1989'}]\n",
      "'Hans G.'\n",
      "[{'affiliations': [{'city': 'Bonn',\n",
      "                    'country': 'Federal Republic of Germany',\n",
      "                    'name': 'University of Bonn'}],\n",
      "  'category': 'physics',\n",
      "  'motivation': '\"for the development of the ion trap technique\"',\n",
      "  'share': '4',\n",
      "  'year': '1989'}]\n",
      "'Wolfgang'\n",
      "[{'affiliations': [{'city': 'New York, NY',\n",
      "                    'country': 'USA',\n",
      "                    'name': 'Columbia University'}],\n",
      "  'category': 'physics',\n",
      "  'motivation': '\"for their discovery of a new form of quantum fluid with '\n",
      "                'fractionally charged excitations\"',\n",
      "  'share': '3',\n",
      "  'year': '1998'}]\n",
      "'Horst L.'\n",
      "[{'affiliations': [{'city': 'Santa Barbara, CA',\n",
      "                    'country': 'USA',\n",
      "                    'name': 'University of California'}],\n",
      "  'category': 'physics',\n",
      "  'motivation': '\"for developing semiconductor heterostructures used in '\n",
      "                'high-speed- and opto-electronics\"',\n",
      "  'overallMotivation': '\"for basic work on information and communication '\n",
      "                       'technology\"',\n",
      "  'share': '4',\n",
      "  'year': '2000'}]\n",
      "'Herbert'\n",
      "[{'affiliations': [{'city': 'Cambridge, MA',\n",
      "                    'country': 'USA',\n",
      "                    'name': 'Massachusetts Institute of Technology (MIT)'}],\n",
      "  'category': 'physics',\n",
      "  'motivation': '\"for the achievement of Bose-Einstein condensation in dilute '\n",
      "                'gases of alkali atoms, and for early fundamental studies of '\n",
      "                'the properties of the condensates\"',\n",
      "  'share': '3',\n",
      "  'year': '2001'}]\n",
      "'Wolfgang'\n",
      "[{'affiliations': [{'city': 'Garching',\n",
      "                    'country': 'Germany',\n",
      "                    'name': 'Max-Planck-Institut für Quantenoptik'},\n",
      "                   {'city': 'Munich',\n",
      "                    'country': 'Germany',\n",
      "                    'name': 'Ludwig-Maximilians- Universität'}],\n",
      "  'category': 'physics',\n",
      "  'motivation': '\"for their contributions to the development of laser-based '\n",
      "                'precision spectroscopy, including the optical frequency comb '\n",
      "                'technique\"',\n",
      "  'share': '4',\n",
      "  'year': '2005'}]\n",
      "'Theodor W.'\n",
      "[{'affiliations': [{'name': 'LIGO/VIRGO Collaboration'},\n",
      "                   {'city': 'Cambridge, MA',\n",
      "                    'country': 'USA',\n",
      "                    'name': 'Massachusetts Institute of Technology (MIT)'}],\n",
      "  'category': 'physics',\n",
      "  'motivation': '\"for decisive contributions to the LIGO detector and the '\n",
      "                'observation of gravitational waves\"',\n",
      "  'share': '2',\n",
      "  'year': '2017'}]\n",
      "'Rainer'\n"
     ]
    }
   ],
   "source": [
    "# TODO: Find all physics nobel laureates that are from Germany\n",
    "# print the year of the first prize, the first name, and surename\n",
    "germannobel = db.laureates.find({'bornCountryCode':'DE', 'prizes.category':'physics'})\n",
    "for info in germannobel:\n",
    "    pprint(info['prizes'])\n",
    "    pprint(info['firstname'])                                 "
   ]
  },
  {
   "cell_type": "code",
   "execution_count": 167,
   "metadata": {
    "scrolled": true
   },
   "outputs": [
    {
     "name": "stdout",
     "output_type": "stream",
     "text": [
      "{'_id': ObjectId('5ccc7b8bc72f31b4784e56f7'),\n",
      " 'born': '1997-07-12',\n",
      " 'bornCity': 'Mingora',\n",
      " 'bornCountry': 'Pakistan',\n",
      " 'bornCountryCode': 'PK',\n",
      " 'died': '0000-00-00',\n",
      " 'firstname': 'Malala',\n",
      " 'gender': 'female',\n",
      " 'id': '914',\n",
      " 'prizes': [{'affiliations': [[]],\n",
      "             'category': 'peace',\n",
      "             'motivation': '\"for their struggle against the suppression of '\n",
      "                           'children and young people and for the right of all '\n",
      "                           'children to education\"',\n",
      "             'share': '2',\n",
      "             'year': '2014'}],\n",
      " 'surname': 'Yousafzai'}\n"
     ]
    }
   ],
   "source": [
    "# TODO: find and print the document for \"Malala\" (firstname)\n",
    "malala = db.laureates.find({'firstname':'Malala'})\n",
    "for name in malala:\n",
    "    pprint(name)"
   ]
  },
  {
   "cell_type": "markdown",
   "metadata": {},
   "source": [
    "## Sort()\n",
    "\n",
    "With `sort()` you can sort the list of documents. The parameter of sort is a list of sorting tuples. Each tuple is a value and an integer value 1 or -1 which states whether the collection to be sorted in ascending (1) or descending (-1) order.\n",
    "\n",
    "Sort all restaurants according to the grade in ascending order.\n",
    "```python\n",
    "cursor = db.restaurants.find().sort([(\"grades.grade\", 1)])\n",
    "```"
   ]
  },
  {
   "cell_type": "code",
   "execution_count": 215,
   "metadata": {},
   "outputs": [
    {
     "name": "stdout",
     "output_type": "stream",
     "text": [
      "[{'affiliations': [[]],\n",
      "  'category': 'physics',\n",
      "  'motivation': '\"in recognition of the extraordinary services they have '\n",
      "                'rendered by their joint researches on the radiation phenomena '\n",
      "                'discovered by Professor Henri Becquerel\"',\n",
      "  'share': '4',\n",
      "  'year': '1903'},\n",
      " {'affiliations': [{'city': 'Paris',\n",
      "                    'country': 'France',\n",
      "                    'name': 'Sorbonne University'}],\n",
      "  'category': 'chemistry',\n",
      "  'motivation': '\"in recognition of her services to the advancement of '\n",
      "                'chemistry by the discovery of the elements radium and '\n",
      "                'polonium, by the isolation of radium and the study of the '\n",
      "                'nature and compounds of this remarkable element\"',\n",
      "  'share': '1',\n",
      "  'year': '1911'}]\n",
      "'Marie'\n",
      "'Curie, née Sklodowska'\n",
      "[{'affiliations': [[]], 'category': 'peace', 'share': '1', 'year': '1905'}]\n",
      "'Baroness Bertha Sophie Felicita'\n",
      "'von Suttner, née Countess Kinsky von Chinic und Tettau'\n",
      "[{'affiliations': [[]],\n",
      "  'category': 'literature',\n",
      "  'motivation': '\"in appreciation of the lofty idealism, vivid imagination and '\n",
      "                'spiritual perception that characterize her writings\"',\n",
      "  'share': '1',\n",
      "  'year': '1909'}]\n",
      "'Selma Ottilia Lovisa'\n",
      "'Lagerlöf'\n",
      "[{'affiliations': [[]],\n",
      "  'category': 'literature',\n",
      "  'motivation': '\"for her idealistically inspired writings which with plastic '\n",
      "                'clarity picture the life on her native island and with depth '\n",
      "                'and sympathy deal with human problems in general\"',\n",
      "  'share': '1',\n",
      "  'year': '1926'}]\n",
      "'Grazia'\n",
      "'Deledda'\n",
      "[{'affiliations': [[]],\n",
      "  'category': 'literature',\n",
      "  'motivation': '\"principally for her powerful descriptions of Northern life '\n",
      "                'during the Middle Ages\"',\n",
      "  'share': '1',\n",
      "  'year': '1928'}]\n",
      "'Sigrid'\n",
      "'Undset'\n",
      "[{'affiliations': [[]], 'category': 'peace', 'share': '2', 'year': '1931'}]\n",
      "'Jane'\n",
      "'Addams'\n",
      "[{'affiliations': [{'city': 'Paris',\n",
      "                    'country': 'France',\n",
      "                    'name': 'Institut du Radium'}],\n",
      "  'category': 'chemistry',\n",
      "  'motivation': '\"in recognition of their synthesis of new radioactive '\n",
      "                'elements\"',\n",
      "  'share': '2',\n",
      "  'year': '1935'}]\n",
      "'Irène'\n",
      "'Joliot-Curie'\n",
      "[{'affiliations': [[]],\n",
      "  'category': 'literature',\n",
      "  'motivation': '\"for her rich and truly epic descriptions of peasant life in '\n",
      "                'China and for her biographical masterpieces\"',\n",
      "  'share': '1',\n",
      "  'year': '1938'}]\n",
      "'Pearl'\n",
      "'Buck'\n",
      "[{'affiliations': [[]],\n",
      "  'category': 'literature',\n",
      "  'motivation': '\"for her lyric poetry which, inspired by powerful emotions, '\n",
      "                'has made her name a symbol of the idealistic aspirations of '\n",
      "                'the entire Latin American world\"',\n",
      "  'share': '1',\n",
      "  'year': '1945'}]\n",
      "'Gabriela'\n",
      "'Mistral'\n",
      "[{'affiliations': [[]], 'category': 'peace', 'share': '2', 'year': '1946'}]\n",
      "'Emily Greene'\n",
      "'Balch'\n",
      "[{'affiliations': [{'city': 'St. Louis, MO',\n",
      "                    'country': 'USA',\n",
      "                    'name': 'Washington University'}],\n",
      "  'category': 'medicine',\n",
      "  'motivation': '\"for their discovery of the course of the catalytic '\n",
      "                'conversion of glycogen\"',\n",
      "  'share': '4',\n",
      "  'year': '1947'}]\n",
      "'Gerty Theresa'\n",
      "'Cori, née Radnitz'\n",
      "[{'affiliations': [{'city': 'San Diego, CA',\n",
      "                    'country': 'USA',\n",
      "                    'name': 'University of California'}],\n",
      "  'category': 'physics',\n",
      "  'motivation': '\"for their discoveries concerning nuclear shell structure\"',\n",
      "  'share': '4',\n",
      "  'year': '1963'}]\n",
      "'Maria'\n",
      "'Goeppert Mayer'\n",
      "[{'affiliations': [{'city': 'Oxford',\n",
      "                    'country': 'United Kingdom',\n",
      "                    'name': 'University of Oxford, Royal Society'}],\n",
      "  'category': 'chemistry',\n",
      "  'motivation': '\"for her determinations by X-ray techniques of the structures '\n",
      "                'of important biochemical substances\"',\n",
      "  'share': '1',\n",
      "  'year': '1964'}]\n",
      "'Dorothy Crowfoot'\n",
      "'Hodgkin'\n",
      "[{'affiliations': [[]],\n",
      "  'category': 'literature',\n",
      "  'motivation': '\"for her outstanding lyrical and dramatic writing, which '\n",
      "                'interprets Israel\\'s destiny with touching strength\" ',\n",
      "  'share': '2',\n",
      "  'year': '1966'}]\n",
      "'Nelly'\n",
      "'Sachs'\n",
      "[{'affiliations': [[]], 'category': 'peace', 'share': '2', 'year': '1976'}]\n",
      "'Betty'\n",
      "'Williams'\n",
      "[{'affiliations': [[]], 'category': 'peace', 'share': '2', 'year': '1976'}]\n",
      "'Mairead'\n",
      "'Corrigan'\n",
      "[{'affiliations': [{'city': 'Bronx, NY',\n",
      "                    'country': 'USA',\n",
      "                    'name': 'Veterans Administration Hospital'}],\n",
      "  'category': 'medicine',\n",
      "  'motivation': '\"for the development of radioimmunoassays of peptide '\n",
      "                'hormones\"',\n",
      "  'share': '2',\n",
      "  'year': '1977'}]\n",
      "'Rosalyn'\n",
      "'Yalow'\n",
      "[{'affiliations': [[]], 'category': 'peace', 'share': '1', 'year': '1979'}]\n",
      "'Mother Teresa'\n",
      "No surname!!!\n",
      "[{'affiliations': [[]], 'category': 'peace', 'share': '2', 'year': '1982'}]\n",
      "'Alva'\n",
      "'Myrdal'\n",
      "[{'affiliations': [{'city': 'Cold Spring Harbor, NY',\n",
      "                    'country': 'USA',\n",
      "                    'name': 'Cold Spring Harbor Laboratory'}],\n",
      "  'category': 'medicine',\n",
      "  'motivation': '\"for her discovery of mobile genetic elements\"',\n",
      "  'share': '1',\n",
      "  'year': '1983'}]\n",
      "'Barbara'\n",
      "'McClintock'\n",
      "[{'affiliations': [{'city': 'Rome',\n",
      "                    'country': 'Italy',\n",
      "                    'name': 'Institute of Cell Biology of the C.N.R.'}],\n",
      "  'category': 'medicine',\n",
      "  'motivation': '\"for their discoveries of growth factors\"',\n",
      "  'share': '2',\n",
      "  'year': '1986'}]\n",
      "'Rita'\n",
      "'Levi-Montalcini'\n",
      "[{'affiliations': [{'city': 'Research Triangle Park, NC',\n",
      "                    'country': 'USA',\n",
      "                    'name': 'Wellcome Research Laboratories'}],\n",
      "  'category': 'medicine',\n",
      "  'motivation': '\"for their discoveries of important principles for drug '\n",
      "                'treatment\"',\n",
      "  'share': '3',\n",
      "  'year': '1988'}]\n",
      "'Gertrude B.'\n",
      "'Elion'\n",
      "[{'affiliations': [[]],\n",
      "  'category': 'peace',\n",
      "  'motivation': '\"for her non-violent struggle for democracy and human rights\"',\n",
      "  'share': '1',\n",
      "  'year': '1991'}]\n",
      "'Aung San Suu Kyi'\n",
      "No surname!!!\n",
      "[{'affiliations': [[]],\n",
      "  'category': 'literature',\n",
      "  'motivation': '\"who through her magnificent epic writing has - in the words '\n",
      "                'of Alfred Nobel - been of very great benefit to humanity\"',\n",
      "  'share': '1',\n",
      "  'year': '1991'}]\n",
      "'Nadine'\n",
      "'Gordimer'\n",
      "[{'affiliations': [[]],\n",
      "  'category': 'peace',\n",
      "  'motivation': '\"in recognition of her work for social justice and '\n",
      "                'ethno-cultural reconciliation based on respect for the rights '\n",
      "                'of indigenous peoples\"',\n",
      "  'share': '1',\n",
      "  'year': '1992'}]\n",
      "'Rigoberta'\n",
      "'Menchú Tum'\n",
      "[{'affiliations': [[]],\n",
      "  'category': 'literature',\n",
      "  'motivation': '\"who in novels characterized by visionary force and poetic '\n",
      "                'import, gives life to an essential aspect of American '\n",
      "                'reality\"',\n",
      "  'share': '1',\n",
      "  'year': '1993'}]\n",
      "'Toni'\n",
      "'Morrison'\n",
      "[{'affiliations': [{'city': 'Tübingen',\n",
      "                    'country': 'Federal Republic of Germany',\n",
      "                    'name': 'Max-Planck-Institut für Entwicklungsbiologie'}],\n",
      "  'category': 'medicine',\n",
      "  'motivation': '\"for their discoveries concerning the genetic control of '\n",
      "                'early embryonic development\"',\n",
      "  'share': '3',\n",
      "  'year': '1995'}]\n",
      "'Christiane'\n",
      "'Nüsslein-Volhard'\n",
      "[{'affiliations': [[]],\n",
      "  'category': 'literature',\n",
      "  'motivation': '\"for poetry that with ironic precision allows the historical '\n",
      "                'and biological context to come to light in fragments of human '\n",
      "                'reality\"',\n",
      "  'share': '1',\n",
      "  'year': '1996'}]\n",
      "'Wislawa'\n",
      "'Szymborska'\n",
      "[{'affiliations': [[]],\n",
      "  'category': 'peace',\n",
      "  'motivation': '\"for their work for the banning and clearing of '\n",
      "                'anti-personnel mines\"',\n",
      "  'share': '2',\n",
      "  'year': '1997'}]\n",
      "'Jody'\n",
      "'Williams'\n",
      "[{'affiliations': [[]],\n",
      "  'category': 'peace',\n",
      "  'motivation': '\"for her efforts for democracy and human rights. She has '\n",
      "                'focused especially on the struggle for the rights of women '\n",
      "                'and children\"',\n",
      "  'share': '1',\n",
      "  'year': '2003'}]\n",
      "'Shirin'\n",
      "'Ebadi'\n",
      "[{'affiliations': [{'city': 'Seattle, WA',\n",
      "                    'country': 'USA',\n",
      "                    'name': 'Fred Hutchinson Cancer Research Center'}],\n",
      "  'category': 'medicine',\n",
      "  'motivation': '\"for their discoveries of odorant receptors and the '\n",
      "                'organization of the olfactory system\"',\n",
      "  'share': '2',\n",
      "  'year': '2004'}]\n",
      "'Linda B.'\n",
      "'Buck'\n",
      "[{'affiliations': [[]],\n",
      "  'category': 'literature',\n",
      "  'motivation': '\"for her musical flow of voices and counter-voices in novels '\n",
      "                'and plays that with extraordinary linguistic zeal reveal the '\n",
      "                \"absurdity of society's clich&eacute;s and their subjugating \"\n",
      "                'power\"',\n",
      "  'share': '1',\n",
      "  'year': '2004'}]\n",
      "'Elfriede'\n",
      "'Jelinek'\n",
      "[{'affiliations': [[]],\n",
      "  'category': 'peace',\n",
      "  'motivation': '\"for her contribution to sustainable development, democracy '\n",
      "                'and peace\"',\n",
      "  'share': '1',\n",
      "  'year': '2004'}]\n",
      "'Wangari Muta'\n",
      "'Maathai'\n",
      "[{'affiliations': [[]],\n",
      "  'category': 'literature',\n",
      "  'motivation': '\"that epicist of the female experience, who with scepticism, '\n",
      "                'fire and visionary power has subjected a divided civilisation '\n",
      "                'to scrutiny\"',\n",
      "  'share': '1',\n",
      "  'year': '2007'}]\n",
      "'Doris'\n",
      "'Lessing'\n",
      "[{'affiliations': [{'city': 'Paris',\n",
      "                    'country': 'France',\n",
      "                    'name': 'Regulation of Retroviral Infections Unit, '\n",
      "                            'Virology Department, Institut Pasteur'}],\n",
      "  'category': 'medicine',\n",
      "  'motivation': '\"for their discovery of human immunodeficiency virus\"',\n",
      "  'share': '4',\n",
      "  'year': '2008'}]\n",
      "'Françoise'\n",
      "'Barré-Sinoussi'\n",
      "[{'affiliations': [{'city': 'San Francisco, CA',\n",
      "                    'country': 'USA',\n",
      "                    'name': 'University of California'}],\n",
      "  'category': 'medicine',\n",
      "  'motivation': '\"for the discovery of how chromosomes are protected by '\n",
      "                'telomeres and the enzyme telomerase\"',\n",
      "  'share': '3',\n",
      "  'year': '2009'}]\n",
      "'Elizabeth H.'\n",
      "'Blackburn'\n",
      "[{'affiliations': [{'city': 'Baltimore, MD',\n",
      "                    'country': 'USA',\n",
      "                    'name': 'Johns Hopkins University School of Medicine'}],\n",
      "  'category': 'medicine',\n",
      "  'motivation': '\"for the discovery of how chromosomes are protected by '\n",
      "                'telomeres and the enzyme telomerase\"',\n",
      "  'share': '3',\n",
      "  'year': '2009'}]\n",
      "'Carol W.'\n",
      "'Greider'\n",
      "[{'affiliations': [{'city': 'Rehovot',\n",
      "                    'country': 'Israel',\n",
      "                    'name': 'Weizmann Institute of Science'}],\n",
      "  'category': 'chemistry',\n",
      "  'motivation': '\"for studies of the structure and function of the ribosome\"',\n",
      "  'share': '3',\n",
      "  'year': '2009'}]\n",
      "'Ada E.'\n",
      "'Yonath'\n",
      "[{'affiliations': [[]],\n",
      "  'category': 'literature',\n",
      "  'motivation': '\"who, with the concentration of poetry and the frankness of '\n",
      "                'prose, depicts the landscape of the dispossessed\"',\n",
      "  'share': '1',\n",
      "  'year': '2009'}]\n",
      "'Herta'\n",
      "'Müller'\n",
      "[{'affiliations': [{'city': 'Bloomington, IN',\n",
      "                    'country': 'USA',\n",
      "                    'name': 'Indiana University'},\n",
      "                   {'city': 'Tempe, AZ',\n",
      "                    'country': 'USA',\n",
      "                    'name': 'Arizona State University'}],\n",
      "  'category': 'economics',\n",
      "  'motivation': '\"for her analysis of economic governance, especially the '\n",
      "                'commons\"',\n",
      "  'share': '2',\n",
      "  'year': '2009'}]\n",
      "'Elinor'\n",
      "'Ostrom'\n",
      "[{'affiliations': [[]],\n",
      "  'category': 'peace',\n",
      "  'motivation': '\"for their non-violent struggle for the safety of women and '\n",
      "                'for women&apos;s rights to full participation in '\n",
      "                'peace-building work\"',\n",
      "  'share': '3',\n",
      "  'year': '2011'}]\n",
      "'Ellen'\n",
      "'Johnson Sirleaf'\n",
      "[{'affiliations': [[]],\n",
      "  'category': 'peace',\n",
      "  'motivation': '\"for their non-violent struggle for the safety of women and '\n",
      "                'for women&apos;s rights to full participation in '\n",
      "                'peace-building work\"',\n",
      "  'share': '3',\n",
      "  'year': '2011'}]\n",
      "'Leymah'\n",
      "'Gbowee'\n",
      "[{'affiliations': [[]],\n",
      "  'category': 'peace',\n",
      "  'motivation': '\"for their non-violent struggle for the safety of women and '\n",
      "                'for women&apos;s rights to full participation in '\n",
      "                'peace-building work\"',\n",
      "  'share': '3',\n",
      "  'year': '2011'}]\n",
      "'Tawakkol'\n",
      "'Karman'\n",
      "[{'affiliations': [[]],\n",
      "  'category': 'literature',\n",
      "  'motivation': '\"master of the contemporary short story\"',\n",
      "  'share': '1',\n",
      "  'year': '2013'}]\n",
      "'Alice'\n",
      "'Munro'\n",
      "[{'affiliations': [{'city': 'Trondheim',\n",
      "                    'country': 'Norway',\n",
      "                    'name': 'Norwegian University of Science and Technology '\n",
      "                            '(NTNU)'}],\n",
      "  'category': 'medicine',\n",
      "  'motivation': '\"for their discoveries of cells that constitute a positioning '\n",
      "                'system in the brain\"',\n",
      "  'share': '4',\n",
      "  'year': '2014'}]\n",
      "'May-Britt'\n",
      "'Moser'\n",
      "[{'affiliations': [[]],\n",
      "  'category': 'peace',\n",
      "  'motivation': '\"for their struggle against the suppression of children and '\n",
      "                'young people and for the right of all children to education\"',\n",
      "  'share': '2',\n",
      "  'year': '2014'}]\n",
      "'Malala'\n",
      "'Yousafzai'\n",
      "[{'affiliations': [{'city': 'Beijing',\n",
      "                    'country': 'China',\n",
      "                    'name': 'China Academy of Traditional Chinese Medicine'}],\n",
      "  'category': 'medicine',\n",
      "  'motivation': '\"for her discoveries concerning a novel therapy against '\n",
      "                'Malaria\"',\n",
      "  'share': '2',\n",
      "  'year': '2015'}]\n",
      "'Youyou'\n",
      "'Tu'\n",
      "[{'affiliations': [[]],\n",
      "  'category': 'literature',\n",
      "  'motivation': '\"for her polyphonic writings, a monument to suffering and '\n",
      "                'courage in our time\"',\n",
      "  'share': '1',\n",
      "  'year': '2015'}]\n",
      "'Svetlana'\n",
      "'Alexievich'\n",
      "[{'affiliations': [{'city': 'Waterloo',\n",
      "                    'country': 'Canada',\n",
      "                    'name': 'University of Waterloo'}],\n",
      "  'category': 'physics',\n",
      "  'motivation': '\"for their method of generating high-intensity, ultra-short '\n",
      "                'optical pulses\"',\n",
      "  'overallMotivation': '“for groundbreaking inventions in the field of laser '\n",
      "                       'physics”',\n",
      "  'share': '4',\n",
      "  'year': '2018'}]\n",
      "'Donna'\n",
      "'Strickland'\n",
      "[{'affiliations': [{'city': 'Pasadena, CA',\n",
      "                    'country': 'USA',\n",
      "                    'name': 'California Institute of Technology (Caltech)'}],\n",
      "  'category': 'chemistry',\n",
      "  'motivation': '\"for the directed evolution of enzymes\"',\n",
      "  'share': '2',\n",
      "  'year': '2018'}]\n",
      "'Frances H.'\n",
      "'Arnold'\n",
      "[{'affiliations': [[]],\n",
      "  'category': 'peace',\n",
      "  'motivation': '\"for their efforts to end the use of sexual violence as a '\n",
      "                'weapon of war and armed conflict\"',\n",
      "  'share': '2',\n",
      "  'year': '2018'}]\n",
      "'Nadia'\n",
      "'Murad'\n"
     ]
    }
   ],
   "source": [
    "# TODO: Find only female nobel laureates \n",
    "# and sort them according the the prize year in ascending order\n",
    "# print year of the first prize, firstname, and surename\n",
    "femalesort = db.laureates.find({'gender':'female'}).sort([('prizes.year', 1)])\n",
    "for docs in femalesort:\n",
    "    pprint(docs['prizes'])\n",
    "    pprint(docs['firstname'])\n",
    "    if docs['firstname'] == 'Mother Teresa': \n",
    "        print('No surname!!!')\n",
    "    elif docs['firstname'] == 'Aung San Suu Kyi':\n",
    "        print('No surname!!!')\n",
    "    else: \n",
    "        pprint(docs['surname'])"
   ]
  },
  {
   "cell_type": "code",
   "execution_count": null,
   "metadata": {},
   "outputs": [],
   "source": []
  }
 ],
 "metadata": {
  "celltoolbar": "Raw Cell Format",
  "kernelspec": {
   "display_name": "Python 3",
   "language": "python",
   "name": "python3"
  },
  "language_info": {
   "codemirror_mode": {
    "name": "ipython",
    "version": 3
   },
   "file_extension": ".py",
   "mimetype": "text/x-python",
   "name": "python",
   "nbconvert_exporter": "python",
   "pygments_lexer": "ipython3",
   "version": "3.7.0"
  },
  "varInspector": {
   "cols": {
    "lenName": 16,
    "lenType": 16,
    "lenVar": 40
   },
   "kernels_config": {
    "python": {
     "delete_cmd_postfix": "",
     "delete_cmd_prefix": "del ",
     "library": "var_list.py",
     "varRefreshCmd": "print(var_dic_list())"
    },
    "r": {
     "delete_cmd_postfix": ") ",
     "delete_cmd_prefix": "rm(",
     "library": "var_list.r",
     "varRefreshCmd": "cat(var_dic_list()) "
    }
   },
   "types_to_exclude": [
    "module",
    "function",
    "builtin_function_or_method",
    "instance",
    "_Feature"
   ],
   "window_display": false
  }
 },
 "nbformat": 4,
 "nbformat_minor": 2
}
